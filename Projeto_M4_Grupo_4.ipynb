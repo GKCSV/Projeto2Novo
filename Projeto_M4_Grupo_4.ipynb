{
  "cells": [
    {
      "cell_type": "markdown",
      "metadata": {
        "id": "view-in-github",
        "colab_type": "text"
      },
      "source": [
        "<a href=\"https://colab.research.google.com/github/GKCSV/Projeto2Novo/blob/main/Projeto_M4_Grupo_4.ipynb\" target=\"_parent\"><img src=\"https://colab.research.google.com/assets/colab-badge.svg\" alt=\"Open In Colab\"/></a>"
      ]
    },
    {
      "cell_type": "markdown",
      "metadata": {
        "id": "ewDrHZDDH77P"
      },
      "source": [
        "# <font color='green' style='font-size: 30px;'>Projeto de encerramento do módulo: Análise exploratória dos valores de combustíveis no Brasil nos meses de junho e julho de 2021 </font>\n",
        "<hr style='border: 2px solid red;'>"
      ]
    },
    {
      "cell_type": "markdown",
      "metadata": {
        "id": "KJuzezzebUrl"
      },
      "source": [
        "## **1. O Grupo:**\n",
        "\n",
        "Grupo 4\n",
        "\n",
        "* Brunna Brito\n",
        "  - [GitHub](https://github.com/brunnabrito)\n",
        "  - [LinkedIn](https://www.linkedin.com/in/brunna-brito/)\n",
        "\n",
        "* Gabriel Kanarski\n",
        "  - [GitHub](https://github.com/GKCSV)\n",
        "  - [LinkedIn](https://www.linkedin.com/in/gabriel-kanarski-8968b9122/)\n",
        "\n",
        "* Lucas Faria\n",
        "  - GitHub\n",
        "  - LinkedIn\n",
        "\n",
        "* Samyr Ozibel\n",
        "  - [GitHub](https://github.com/ozibel)\n",
        "  - [LinkedIn](https://www.linkedin.com/in/samyr-ozibel/)\n",
        "\n",
        "* Vinícius Costa Souto\n",
        "  - [GitHub](https://github.com/ViniciusCostaSouto)\n",
        "  - [LinkedIn](https://www.linkedin.com/in/vin%C3%ADcius-costa-souto-937966164/)"
      ]
    },
    {
      "cell_type": "markdown",
      "source": [
        "## **2. Descrição do Projeto:**\n",
        "\n",
        "Você e a sua equipe foram escalados pela Agência Nacional de Petróleo e Gás Natural e Biocombustíveis (ANP) para realizar uma análise exploratória relacionada à série histórica de preço de venda da gasolina e do etanol. ANP é um centro de referência em dados e informações sobre a indústria de petróleo e gás natural:\n",
        "\n",
        "* mantém o Banco de Dados de Exploração e Produção (BDEP);\n",
        "* promove estudos sobre o potencial petrolífero e o desenvolvimento do setor;\n",
        "* recebe e torna públicas as notificações de descobertas;\n",
        "* divulga as estatísticas oficiais sobre reservas, refino e produção de petróleo, gás e biocombustíveis no Brasil.\n",
        "\n",
        "A ANP também realiza e divulga rotineiramente pesquisas sobre qualidade dos combustíveis e lubrificantes e sobre o comportamento dos preços desses produtos. Consolida e divulga informações sobre os mercados regulados e acerca dos investimentos em pesquisa, inovação e formação profissional voltadas para os setores regulados. \n",
        "\n",
        "As fontes de dados que serão utilizadas no projeto estão disponíveis no portal dados.gov. Serão utilizados os arquivos dos meses de junho e julho de 2021 contendo a série histórica dos preços da gasolina e do etanol em todo o Brasil. Para baixar os arquivos, basta clicar nos meses que estão destacados anteriormente.\n",
        "\n",
        "As perguntas a serem respondidas são:\n",
        "\n",
        "1) Como se comportaram o preço dos combustíveis durante os dois meses citados? Os valores do etanol e da gasolina tiveram uma tendência de queda ou diminuição?\n",
        "\n",
        "2) Qual o preço médio da gasolina e do etanol nesses dois meses?\n",
        "\n",
        "3) Quais os 5 estados com o preço médio da gasolina e do etanol mais caros?\n",
        "\n",
        "4) Qual o preço médio da gasolina e do etanol por estado?\n",
        "\n",
        "5) Qual o município que possui o menor preço para a gasolina e para o etanol?\n",
        "\n",
        "6) Qual o município que possui o maior preço para a gasolina e para o etanol?\n",
        "\n",
        "7) Qual a região que possui o maior valor médio da gasolina?\n",
        "\n",
        "8) Qual a região que possui o menor valor médio do etanol?\n",
        "\n",
        "9) Há alguma correlação entre o valor do combustível (gasolina e etanol) e a região onde ele é vendido?\n",
        "\n",
        "10) Há alguma correlação entre o valor do combustível (gasolina e etanol) e a bandeira que vende ele?\n",
        "\n",
        "O projeto deverá obrigatoriamente:\n",
        "\n",
        "* Utilizar Jupyter Notebook ou Colab;\n",
        "* Realizar a limpeza dos dados;\n",
        "* Realizar análise exploratória;\n",
        "* O notebook utilizado na análise deve estar organizado, com descrições do passo a passo da análise em markdown, apresentação dos resultados e insights gerados;\n",
        "* Levantar mais duas perguntas e respondê-las da forma que achar mais adequada."
      ],
      "metadata": {
        "id": "NW8_Fbasp7q-"
      }
    },
    {
      "cell_type": "markdown",
      "source": [
        "## **3. Entendendo os Dados:**\n",
        "\n",
        "Nesta etapa estaremos coletando os dados iniciais, descrevendo os referidos dados, bem como explorando os dados com as estatísticas descritivas e por fim, verificando a qualidade de dados."
      ],
      "metadata": {
        "id": "1zIF2tQsux-j"
      }
    },
    {
      "cell_type": "markdown",
      "source": [
        "##### **3.1 Importando as bibliotecas:**"
      ],
      "metadata": {
        "id": "_le_yRDcv5S5"
      }
    },
    {
      "cell_type": "markdown",
      "source": [
        "**Eixo base:**\n",
        "\n",
        "1. NumPy\n",
        "\n",
        "Biblioteca de manipulação de arrays multidimensionais de alta performance, possui diversas funções matemáticas e estatísticas.\n",
        "\n",
        "2. Pandas\n",
        "\n",
        "Principal biblioteca de manipulação e análise de dados. Possui diversos métodos para agrupar, filtrar, manipular, limpar e combinar dados de forma simples.\n",
        "<br>\n",
        "\n",
        "**Data Visualization:**\n",
        "\n",
        "1. Matplotlib\n",
        "\n",
        "O matplotlib é uma biblioteca com recursos para a geração de gráficos 2D a partir de arrays. \n",
        "\n",
        "2. Seaborn\n",
        "\n",
        "O Seaborn é uma biblioteca de visualização de dados do Python baseado no Matplotlib. Ele provê uma interface de alto nível para construção de gráficos estatísticos atrativos e informativos."
      ],
      "metadata": {
        "id": "O7cRibii7Mjp"
      }
    },
    {
      "cell_type": "code",
      "execution_count": 217,
      "metadata": {
        "id": "clNqVW0dG0Xd"
      },
      "outputs": [],
      "source": [
        "# Carregando os pacotes do Python necessários \n",
        "import numpy as np\n",
        "import pandas as pd\n",
        "import matplotlib.pyplot as plt\n",
        "import seaborn as sns"
      ]
    },
    {
      "cell_type": "markdown",
      "metadata": {
        "id": "s4kukcY9KlAB"
      },
      "source": [
        "##### **3.2 Coletando os dados iniciais:**"
      ]
    },
    {
      "cell_type": "markdown",
      "metadata": {
        "id": "y4lh-p_ob4Y4"
      },
      "source": [
        "Carregar os arquivos disponíveis na ANP:"
      ]
    },
    {
      "cell_type": "code",
      "execution_count": 218,
      "metadata": {
        "colab": {
          "base_uri": "https://localhost:8080/",
          "height": 354
        },
        "id": "EWCE5vZEG1-5",
        "outputId": "ea5406de-9531-4c11-a0f7-600f6226bad4"
      },
      "outputs": [
        {
          "output_type": "execute_result",
          "data": {
            "text/html": [
              "\n",
              "  <div id=\"df-3befbdb6-4b29-4d65-a961-9ff4a99d029f\">\n",
              "    <div class=\"colab-df-container\">\n",
              "      <div>\n",
              "<style scoped>\n",
              "    .dataframe tbody tr th:only-of-type {\n",
              "        vertical-align: middle;\n",
              "    }\n",
              "\n",
              "    .dataframe tbody tr th {\n",
              "        vertical-align: top;\n",
              "    }\n",
              "\n",
              "    .dataframe thead th {\n",
              "        text-align: right;\n",
              "    }\n",
              "</style>\n",
              "<table border=\"1\" class=\"dataframe\">\n",
              "  <thead>\n",
              "    <tr style=\"text-align: right;\">\n",
              "      <th></th>\n",
              "      <th>Região - Sigla</th>\n",
              "      <th>Estado - Sigla</th>\n",
              "      <th>Município</th>\n",
              "      <th>Revenda</th>\n",
              "      <th>CNPJ da Revenda</th>\n",
              "      <th>Nome da Rua</th>\n",
              "      <th>Número Rua</th>\n",
              "      <th>Complemento</th>\n",
              "      <th>Bairro</th>\n",
              "      <th>Cep</th>\n",
              "      <th>Produto</th>\n",
              "      <th>Data da Coleta</th>\n",
              "      <th>Valor de Venda</th>\n",
              "      <th>Valor de Compra</th>\n",
              "      <th>Unidade de Medida</th>\n",
              "      <th>Bandeira</th>\n",
              "    </tr>\n",
              "  </thead>\n",
              "  <tbody>\n",
              "    <tr>\n",
              "      <th>0</th>\n",
              "      <td>N</td>\n",
              "      <td>AC</td>\n",
              "      <td>CRUZEIRO DO SUL</td>\n",
              "      <td>CARDINAL E OLIVEIRA LTDA</td>\n",
              "      <td>03.608.766/0005-75</td>\n",
              "      <td>AVENIDA BOULEVARD THAUMATURGO</td>\n",
              "      <td>1031</td>\n",
              "      <td>NaN</td>\n",
              "      <td>CENTRO</td>\n",
              "      <td>69980-000</td>\n",
              "      <td>GASOLINA</td>\n",
              "      <td>02/06/2021</td>\n",
              "      <td>6,89</td>\n",
              "      <td>NaN</td>\n",
              "      <td>R$ / litro</td>\n",
              "      <td>PETROBRAS DISTRIBUIDORA S.A.</td>\n",
              "    </tr>\n",
              "    <tr>\n",
              "      <th>1</th>\n",
              "      <td>N</td>\n",
              "      <td>AC</td>\n",
              "      <td>CRUZEIRO DO SUL</td>\n",
              "      <td>CARDINAL E OLIVEIRA LTDA</td>\n",
              "      <td>03.608.766/0005-75</td>\n",
              "      <td>AVENIDA BOULEVARD THAUMATURGO</td>\n",
              "      <td>1031</td>\n",
              "      <td>NaN</td>\n",
              "      <td>CENTRO</td>\n",
              "      <td>69980-000</td>\n",
              "      <td>GASOLINA ADITIVADA</td>\n",
              "      <td>02/06/2021</td>\n",
              "      <td>6,89</td>\n",
              "      <td>NaN</td>\n",
              "      <td>R$ / litro</td>\n",
              "      <td>PETROBRAS DISTRIBUIDORA S.A.</td>\n",
              "    </tr>\n",
              "    <tr>\n",
              "      <th>2</th>\n",
              "      <td>N</td>\n",
              "      <td>AC</td>\n",
              "      <td>CRUZEIRO DO SUL</td>\n",
              "      <td>CARDINAL E OLIVEIRA LTDA</td>\n",
              "      <td>03.608.766/0006-56</td>\n",
              "      <td>AVENIDA 25 DE AGOSTO</td>\n",
              "      <td>1350</td>\n",
              "      <td>NaN</td>\n",
              "      <td>25 DE AGOSTO</td>\n",
              "      <td>69980-000</td>\n",
              "      <td>ETANOL</td>\n",
              "      <td>01/06/2021</td>\n",
              "      <td>6,1</td>\n",
              "      <td>NaN</td>\n",
              "      <td>R$ / litro</td>\n",
              "      <td>PETROBRAS DISTRIBUIDORA S.A.</td>\n",
              "    </tr>\n",
              "    <tr>\n",
              "      <th>3</th>\n",
              "      <td>N</td>\n",
              "      <td>AC</td>\n",
              "      <td>CRUZEIRO DO SUL</td>\n",
              "      <td>CARDINAL E OLIVEIRA LTDA</td>\n",
              "      <td>03.608.766/0006-56</td>\n",
              "      <td>AVENIDA 25 DE AGOSTO</td>\n",
              "      <td>1350</td>\n",
              "      <td>NaN</td>\n",
              "      <td>25 DE AGOSTO</td>\n",
              "      <td>69980-000</td>\n",
              "      <td>GASOLINA</td>\n",
              "      <td>01/06/2021</td>\n",
              "      <td>6,89</td>\n",
              "      <td>NaN</td>\n",
              "      <td>R$ / litro</td>\n",
              "      <td>PETROBRAS DISTRIBUIDORA S.A.</td>\n",
              "    </tr>\n",
              "    <tr>\n",
              "      <th>4</th>\n",
              "      <td>N</td>\n",
              "      <td>AC</td>\n",
              "      <td>CRUZEIRO DO SUL</td>\n",
              "      <td>CARDINAL E OLIVEIRA LTDA</td>\n",
              "      <td>03.608.766/0004-94</td>\n",
              "      <td>AVENIDA LAURO MULLER</td>\n",
              "      <td>943</td>\n",
              "      <td>NaN</td>\n",
              "      <td>JOÃO ALVES</td>\n",
              "      <td>69980-000</td>\n",
              "      <td>GASOLINA</td>\n",
              "      <td>02/06/2021</td>\n",
              "      <td>6,89</td>\n",
              "      <td>NaN</td>\n",
              "      <td>R$ / litro</td>\n",
              "      <td>BRANCA</td>\n",
              "    </tr>\n",
              "  </tbody>\n",
              "</table>\n",
              "</div>\n",
              "      <button class=\"colab-df-convert\" onclick=\"convertToInteractive('df-3befbdb6-4b29-4d65-a961-9ff4a99d029f')\"\n",
              "              title=\"Convert this dataframe to an interactive table.\"\n",
              "              style=\"display:none;\">\n",
              "        \n",
              "  <svg xmlns=\"http://www.w3.org/2000/svg\" height=\"24px\"viewBox=\"0 0 24 24\"\n",
              "       width=\"24px\">\n",
              "    <path d=\"M0 0h24v24H0V0z\" fill=\"none\"/>\n",
              "    <path d=\"M18.56 5.44l.94 2.06.94-2.06 2.06-.94-2.06-.94-.94-2.06-.94 2.06-2.06.94zm-11 1L8.5 8.5l.94-2.06 2.06-.94-2.06-.94L8.5 2.5l-.94 2.06-2.06.94zm10 10l.94 2.06.94-2.06 2.06-.94-2.06-.94-.94-2.06-.94 2.06-2.06.94z\"/><path d=\"M17.41 7.96l-1.37-1.37c-.4-.4-.92-.59-1.43-.59-.52 0-1.04.2-1.43.59L10.3 9.45l-7.72 7.72c-.78.78-.78 2.05 0 2.83L4 21.41c.39.39.9.59 1.41.59.51 0 1.02-.2 1.41-.59l7.78-7.78 2.81-2.81c.8-.78.8-2.07 0-2.86zM5.41 20L4 18.59l7.72-7.72 1.47 1.35L5.41 20z\"/>\n",
              "  </svg>\n",
              "      </button>\n",
              "      \n",
              "  <style>\n",
              "    .colab-df-container {\n",
              "      display:flex;\n",
              "      flex-wrap:wrap;\n",
              "      gap: 12px;\n",
              "    }\n",
              "\n",
              "    .colab-df-convert {\n",
              "      background-color: #E8F0FE;\n",
              "      border: none;\n",
              "      border-radius: 50%;\n",
              "      cursor: pointer;\n",
              "      display: none;\n",
              "      fill: #1967D2;\n",
              "      height: 32px;\n",
              "      padding: 0 0 0 0;\n",
              "      width: 32px;\n",
              "    }\n",
              "\n",
              "    .colab-df-convert:hover {\n",
              "      background-color: #E2EBFA;\n",
              "      box-shadow: 0px 1px 2px rgba(60, 64, 67, 0.3), 0px 1px 3px 1px rgba(60, 64, 67, 0.15);\n",
              "      fill: #174EA6;\n",
              "    }\n",
              "\n",
              "    [theme=dark] .colab-df-convert {\n",
              "      background-color: #3B4455;\n",
              "      fill: #D2E3FC;\n",
              "    }\n",
              "\n",
              "    [theme=dark] .colab-df-convert:hover {\n",
              "      background-color: #434B5C;\n",
              "      box-shadow: 0px 1px 3px 1px rgba(0, 0, 0, 0.15);\n",
              "      filter: drop-shadow(0px 1px 2px rgba(0, 0, 0, 0.3));\n",
              "      fill: #FFFFFF;\n",
              "    }\n",
              "  </style>\n",
              "\n",
              "      <script>\n",
              "        const buttonEl =\n",
              "          document.querySelector('#df-3befbdb6-4b29-4d65-a961-9ff4a99d029f button.colab-df-convert');\n",
              "        buttonEl.style.display =\n",
              "          google.colab.kernel.accessAllowed ? 'block' : 'none';\n",
              "\n",
              "        async function convertToInteractive(key) {\n",
              "          const element = document.querySelector('#df-3befbdb6-4b29-4d65-a961-9ff4a99d029f');\n",
              "          const dataTable =\n",
              "            await google.colab.kernel.invokeFunction('convertToInteractive',\n",
              "                                                     [key], {});\n",
              "          if (!dataTable) return;\n",
              "\n",
              "          const docLinkHtml = 'Like what you see? Visit the ' +\n",
              "            '<a target=\"_blank\" href=https://colab.research.google.com/notebooks/data_table.ipynb>data table notebook</a>'\n",
              "            + ' to learn more about interactive tables.';\n",
              "          element.innerHTML = '';\n",
              "          dataTable['output_type'] = 'display_data';\n",
              "          await google.colab.output.renderOutput(dataTable, element);\n",
              "          const docLink = document.createElement('div');\n",
              "          docLink.innerHTML = docLinkHtml;\n",
              "          element.appendChild(docLink);\n",
              "        }\n",
              "      </script>\n",
              "    </div>\n",
              "  </div>\n",
              "  "
            ],
            "text/plain": [
              "  Região - Sigla Estado - Sigla  ... Unidade de Medida                      Bandeira\n",
              "0              N             AC  ...        R$ / litro  PETROBRAS DISTRIBUIDORA S.A.\n",
              "1              N             AC  ...        R$ / litro  PETROBRAS DISTRIBUIDORA S.A.\n",
              "2              N             AC  ...        R$ / litro  PETROBRAS DISTRIBUIDORA S.A.\n",
              "3              N             AC  ...        R$ / litro  PETROBRAS DISTRIBUIDORA S.A.\n",
              "4              N             AC  ...        R$ / litro                        BRANCA\n",
              "\n",
              "[5 rows x 16 columns]"
            ]
          },
          "metadata": {},
          "execution_count": 218
        }
      ],
      "source": [
        "# Carregando os dados do mês de junho com informações fornecidas pela ANP\n",
        "jun = pd.read_csv(\"https://www.gov.br/anp/pt-br/centrais-de-conteudo/dados-abertos/arquivos/shpc/dsan/2021/2021-06-gasolina-etanol.csv\", delimiter = \";\")\n",
        "jun.head()"
      ]
    },
    {
      "cell_type": "code",
      "source": [
        "jun['Mes'] = 'junho'"
      ],
      "metadata": {
        "id": "WXIF8DZqJWBc"
      },
      "execution_count": 219,
      "outputs": []
    },
    {
      "cell_type": "code",
      "execution_count": 220,
      "metadata": {
        "id": "yUDnUiloHF0M",
        "colab": {
          "base_uri": "https://localhost:8080/",
          "height": 406
        },
        "outputId": "c4a77ba5-7f3a-4f02-855a-5438fb416989"
      },
      "outputs": [
        {
          "output_type": "execute_result",
          "data": {
            "text/html": [
              "\n",
              "  <div id=\"df-ef2e3252-f57d-43e4-aab2-948030d994d7\">\n",
              "    <div class=\"colab-df-container\">\n",
              "      <div>\n",
              "<style scoped>\n",
              "    .dataframe tbody tr th:only-of-type {\n",
              "        vertical-align: middle;\n",
              "    }\n",
              "\n",
              "    .dataframe tbody tr th {\n",
              "        vertical-align: top;\n",
              "    }\n",
              "\n",
              "    .dataframe thead th {\n",
              "        text-align: right;\n",
              "    }\n",
              "</style>\n",
              "<table border=\"1\" class=\"dataframe\">\n",
              "  <thead>\n",
              "    <tr style=\"text-align: right;\">\n",
              "      <th></th>\n",
              "      <th>Região - Sigla</th>\n",
              "      <th>Estado - Sigla</th>\n",
              "      <th>Município</th>\n",
              "      <th>Revenda</th>\n",
              "      <th>CNPJ da Revenda</th>\n",
              "      <th>Nome da Rua</th>\n",
              "      <th>Número Rua</th>\n",
              "      <th>Complemento</th>\n",
              "      <th>Bairro</th>\n",
              "      <th>Cep</th>\n",
              "      <th>Produto</th>\n",
              "      <th>Data da Coleta</th>\n",
              "      <th>Valor de Venda</th>\n",
              "      <th>Valor de Compra</th>\n",
              "      <th>Unidade de Medida</th>\n",
              "      <th>Bandeira</th>\n",
              "    </tr>\n",
              "  </thead>\n",
              "  <tbody>\n",
              "    <tr>\n",
              "      <th>0</th>\n",
              "      <td>NE</td>\n",
              "      <td>CE</td>\n",
              "      <td>MARACANAU</td>\n",
              "      <td>BEZERRA &amp; MENDES COMERCIAL DE PETRÓLEO LTDA.</td>\n",
              "      <td>05.397.086/0001-51</td>\n",
              "      <td>RODOVIA MARANGUAPE - FORTALEZA - KM 06</td>\n",
              "      <td>S/N</td>\n",
              "      <td>NaN</td>\n",
              "      <td>PARQUE LUZARDO VIANA</td>\n",
              "      <td>61910-000</td>\n",
              "      <td>GASOLINA</td>\n",
              "      <td>01/07/2021</td>\n",
              "      <td>5,499</td>\n",
              "      <td>NaN</td>\n",
              "      <td>R$ / litro</td>\n",
              "      <td>IPIRANGA</td>\n",
              "    </tr>\n",
              "    <tr>\n",
              "      <th>1</th>\n",
              "      <td>NE</td>\n",
              "      <td>CE</td>\n",
              "      <td>MARACANAU</td>\n",
              "      <td>BEZERRA &amp; MENDES COMERCIAL DE PETRÓLEO LTDA.</td>\n",
              "      <td>05.397.086/0001-51</td>\n",
              "      <td>RODOVIA MARANGUAPE - FORTALEZA - KM 06</td>\n",
              "      <td>S/N</td>\n",
              "      <td>NaN</td>\n",
              "      <td>PARQUE LUZARDO VIANA</td>\n",
              "      <td>61910-000</td>\n",
              "      <td>ETANOL</td>\n",
              "      <td>01/07/2021</td>\n",
              "      <td>5,2</td>\n",
              "      <td>NaN</td>\n",
              "      <td>R$ / litro</td>\n",
              "      <td>IPIRANGA</td>\n",
              "    </tr>\n",
              "    <tr>\n",
              "      <th>2</th>\n",
              "      <td>NE</td>\n",
              "      <td>CE</td>\n",
              "      <td>MARACANAU</td>\n",
              "      <td>BEZERRA &amp; MENDES COMERCIAL DE PETRÓLEO LTDA.</td>\n",
              "      <td>05.397.086/0001-51</td>\n",
              "      <td>RODOVIA MARANGUAPE - FORTALEZA - KM 06</td>\n",
              "      <td>S/N</td>\n",
              "      <td>NaN</td>\n",
              "      <td>PARQUE LUZARDO VIANA</td>\n",
              "      <td>61910-000</td>\n",
              "      <td>GASOLINA ADITIVADA</td>\n",
              "      <td>01/07/2021</td>\n",
              "      <td>5,699</td>\n",
              "      <td>NaN</td>\n",
              "      <td>R$ / litro</td>\n",
              "      <td>IPIRANGA</td>\n",
              "    </tr>\n",
              "    <tr>\n",
              "      <th>3</th>\n",
              "      <td>NE</td>\n",
              "      <td>CE</td>\n",
              "      <td>MARACANAU</td>\n",
              "      <td>LUIZA GLAURIA R T MENEZES</td>\n",
              "      <td>03.602.329/0001-10</td>\n",
              "      <td>ESTRADA FORTALEZA MARANGUAPE</td>\n",
              "      <td>S/N</td>\n",
              "      <td>NaN</td>\n",
              "      <td>KAGADO</td>\n",
              "      <td>61901-410</td>\n",
              "      <td>GASOLINA</td>\n",
              "      <td>01/07/2021</td>\n",
              "      <td>5,49</td>\n",
              "      <td>NaN</td>\n",
              "      <td>R$ / litro</td>\n",
              "      <td>PETROBRAS DISTRIBUIDORA S.A.</td>\n",
              "    </tr>\n",
              "    <tr>\n",
              "      <th>4</th>\n",
              "      <td>NE</td>\n",
              "      <td>CE</td>\n",
              "      <td>MARACANAU</td>\n",
              "      <td>LUIZA GLAURIA R T MENEZES</td>\n",
              "      <td>03.602.329/0001-10</td>\n",
              "      <td>ESTRADA FORTALEZA MARANGUAPE</td>\n",
              "      <td>S/N</td>\n",
              "      <td>NaN</td>\n",
              "      <td>KAGADO</td>\n",
              "      <td>61901-410</td>\n",
              "      <td>ETANOL</td>\n",
              "      <td>01/07/2021</td>\n",
              "      <td>4,99</td>\n",
              "      <td>NaN</td>\n",
              "      <td>R$ / litro</td>\n",
              "      <td>PETROBRAS DISTRIBUIDORA S.A.</td>\n",
              "    </tr>\n",
              "  </tbody>\n",
              "</table>\n",
              "</div>\n",
              "      <button class=\"colab-df-convert\" onclick=\"convertToInteractive('df-ef2e3252-f57d-43e4-aab2-948030d994d7')\"\n",
              "              title=\"Convert this dataframe to an interactive table.\"\n",
              "              style=\"display:none;\">\n",
              "        \n",
              "  <svg xmlns=\"http://www.w3.org/2000/svg\" height=\"24px\"viewBox=\"0 0 24 24\"\n",
              "       width=\"24px\">\n",
              "    <path d=\"M0 0h24v24H0V0z\" fill=\"none\"/>\n",
              "    <path d=\"M18.56 5.44l.94 2.06.94-2.06 2.06-.94-2.06-.94-.94-2.06-.94 2.06-2.06.94zm-11 1L8.5 8.5l.94-2.06 2.06-.94-2.06-.94L8.5 2.5l-.94 2.06-2.06.94zm10 10l.94 2.06.94-2.06 2.06-.94-2.06-.94-.94-2.06-.94 2.06-2.06.94z\"/><path d=\"M17.41 7.96l-1.37-1.37c-.4-.4-.92-.59-1.43-.59-.52 0-1.04.2-1.43.59L10.3 9.45l-7.72 7.72c-.78.78-.78 2.05 0 2.83L4 21.41c.39.39.9.59 1.41.59.51 0 1.02-.2 1.41-.59l7.78-7.78 2.81-2.81c.8-.78.8-2.07 0-2.86zM5.41 20L4 18.59l7.72-7.72 1.47 1.35L5.41 20z\"/>\n",
              "  </svg>\n",
              "      </button>\n",
              "      \n",
              "  <style>\n",
              "    .colab-df-container {\n",
              "      display:flex;\n",
              "      flex-wrap:wrap;\n",
              "      gap: 12px;\n",
              "    }\n",
              "\n",
              "    .colab-df-convert {\n",
              "      background-color: #E8F0FE;\n",
              "      border: none;\n",
              "      border-radius: 50%;\n",
              "      cursor: pointer;\n",
              "      display: none;\n",
              "      fill: #1967D2;\n",
              "      height: 32px;\n",
              "      padding: 0 0 0 0;\n",
              "      width: 32px;\n",
              "    }\n",
              "\n",
              "    .colab-df-convert:hover {\n",
              "      background-color: #E2EBFA;\n",
              "      box-shadow: 0px 1px 2px rgba(60, 64, 67, 0.3), 0px 1px 3px 1px rgba(60, 64, 67, 0.15);\n",
              "      fill: #174EA6;\n",
              "    }\n",
              "\n",
              "    [theme=dark] .colab-df-convert {\n",
              "      background-color: #3B4455;\n",
              "      fill: #D2E3FC;\n",
              "    }\n",
              "\n",
              "    [theme=dark] .colab-df-convert:hover {\n",
              "      background-color: #434B5C;\n",
              "      box-shadow: 0px 1px 3px 1px rgba(0, 0, 0, 0.15);\n",
              "      filter: drop-shadow(0px 1px 2px rgba(0, 0, 0, 0.3));\n",
              "      fill: #FFFFFF;\n",
              "    }\n",
              "  </style>\n",
              "\n",
              "      <script>\n",
              "        const buttonEl =\n",
              "          document.querySelector('#df-ef2e3252-f57d-43e4-aab2-948030d994d7 button.colab-df-convert');\n",
              "        buttonEl.style.display =\n",
              "          google.colab.kernel.accessAllowed ? 'block' : 'none';\n",
              "\n",
              "        async function convertToInteractive(key) {\n",
              "          const element = document.querySelector('#df-ef2e3252-f57d-43e4-aab2-948030d994d7');\n",
              "          const dataTable =\n",
              "            await google.colab.kernel.invokeFunction('convertToInteractive',\n",
              "                                                     [key], {});\n",
              "          if (!dataTable) return;\n",
              "\n",
              "          const docLinkHtml = 'Like what you see? Visit the ' +\n",
              "            '<a target=\"_blank\" href=https://colab.research.google.com/notebooks/data_table.ipynb>data table notebook</a>'\n",
              "            + ' to learn more about interactive tables.';\n",
              "          element.innerHTML = '';\n",
              "          dataTable['output_type'] = 'display_data';\n",
              "          await google.colab.output.renderOutput(dataTable, element);\n",
              "          const docLink = document.createElement('div');\n",
              "          docLink.innerHTML = docLinkHtml;\n",
              "          element.appendChild(docLink);\n",
              "        }\n",
              "      </script>\n",
              "    </div>\n",
              "  </div>\n",
              "  "
            ],
            "text/plain": [
              "  Região - Sigla Estado - Sigla  ... Unidade de Medida                      Bandeira\n",
              "0             NE             CE  ...        R$ / litro                      IPIRANGA\n",
              "1             NE             CE  ...        R$ / litro                      IPIRANGA\n",
              "2             NE             CE  ...        R$ / litro                      IPIRANGA\n",
              "3             NE             CE  ...        R$ / litro  PETROBRAS DISTRIBUIDORA S.A.\n",
              "4             NE             CE  ...        R$ / litro  PETROBRAS DISTRIBUIDORA S.A.\n",
              "\n",
              "[5 rows x 16 columns]"
            ]
          },
          "metadata": {},
          "execution_count": 220
        }
      ],
      "source": [
        "# Carregando os dados do mês de julho com informações fornecidas pela ANP\n",
        "jul = pd.read_csv(\"https://www.gov.br/anp/pt-br/centrais-de-conteudo/dados-abertos/arquivos/shpc/dsan/2021/2021-07-gasolina-etanol.csv\", delimiter = \";\")\n",
        "jul.head()"
      ]
    },
    {
      "cell_type": "code",
      "source": [
        "jul['Mes'] = 'julho'"
      ],
      "metadata": {
        "id": "0EWhWtAeJa3o"
      },
      "execution_count": 221,
      "outputs": []
    },
    {
      "cell_type": "markdown",
      "metadata": {
        "id": "_V6BRn3qWOm4"
      },
      "source": [
        "##### **3.3 Unindo os dados:**\n",
        "\n",
        "Para facilitar a manipulação dos dados optamos por unir os datasets originais em um só, como ambos possuem os mesmos dados e tipos nas colunas usaremos a concatenação para fazer essa união:"
      ]
    },
    {
      "cell_type": "code",
      "execution_count": 222,
      "metadata": {
        "id": "p3s72CPFG2WX"
      },
      "outputs": [],
      "source": [
        "df = pd.concat([jun, jul], ignore_index=True)"
      ]
    },
    {
      "cell_type": "markdown",
      "metadata": {
        "id": "-1mBH6AiKT3S"
      },
      "source": [
        "##### **3.4 Descrevendo os dados:**\n",
        "\n",
        "Nessa etapa os dados são descritos com objetivo de conhecermos seu formato, os tipos de variáveis (numéricas ou categóricas), bem como aspectos gerais úteis ao entendimento geral do problema."
      ]
    },
    {
      "cell_type": "code",
      "execution_count": 223,
      "metadata": {
        "id": "3YHCNd0NjyEZ",
        "colab": {
          "base_uri": "https://localhost:8080/"
        },
        "outputId": "e09555e1-225f-488c-f6da-0ec08a1a2861"
      },
      "outputs": [
        {
          "output_type": "execute_result",
          "data": {
            "text/plain": [
              "(97586, 17)"
            ]
          },
          "metadata": {},
          "execution_count": 223
        }
      ],
      "source": [
        "# Conhecendo o formato do dataset.\n",
        "\n",
        "df.shape"
      ]
    },
    {
      "cell_type": "markdown",
      "source": [
        "Em uma análise inicial percebe-se que o dataset apresenta um total de 97586 linhas, entradas ou observações, bem como um total de 16 colunas:"
      ],
      "metadata": {
        "id": "89vlUZqi04R7"
      }
    },
    {
      "cell_type": "code",
      "execution_count": 224,
      "metadata": {
        "id": "XgBHdmoqLACy",
        "colab": {
          "base_uri": "https://localhost:8080/"
        },
        "outputId": "ad982c96-3040-4b7b-86a7-b0155b0a51d5"
      },
      "outputs": [
        {
          "output_type": "stream",
          "name": "stdout",
          "text": [
            "<class 'pandas.core.frame.DataFrame'>\n",
            "RangeIndex: 97586 entries, 0 to 97585\n",
            "Data columns (total 17 columns):\n",
            " #   Column             Non-Null Count  Dtype  \n",
            "---  ------             --------------  -----  \n",
            " 0   Região - Sigla     97586 non-null  object \n",
            " 1   Estado - Sigla     97586 non-null  object \n",
            " 2   Município          97586 non-null  object \n",
            " 3   Revenda            97586 non-null  object \n",
            " 4   CNPJ da Revenda    97586 non-null  object \n",
            " 5   Nome da Rua        97586 non-null  object \n",
            " 6   Número Rua         97529 non-null  object \n",
            " 7   Complemento        19711 non-null  object \n",
            " 8   Bairro             97327 non-null  object \n",
            " 9   Cep                97586 non-null  object \n",
            " 10  Produto            97586 non-null  object \n",
            " 11  Data da Coleta     97586 non-null  object \n",
            " 12  Valor de Venda     97586 non-null  object \n",
            " 13  Valor de Compra    0 non-null      float64\n",
            " 14  Unidade de Medida  97586 non-null  object \n",
            " 15  Bandeira           97586 non-null  object \n",
            " 16  Mes                97586 non-null  object \n",
            "dtypes: float64(1), object(16)\n",
            "memory usage: 12.7+ MB\n"
          ]
        }
      ],
      "source": [
        "# Conhecendo as varíaveis e seus tipos.\n",
        "\n",
        "df.info()"
      ]
    },
    {
      "cell_type": "markdown",
      "source": [
        "**Dicionário das variáveis:**\n",
        "\n",
        "* `Região - Sigla` - Coluna que contém a sigla da região específica. No caso: Norte: N, Nordeste: NE, Sul: S, Sudeste: SE, Centro Oeste: CO.\n",
        "* `Estado - Sigla` - Coluna que contém a sigla do estado específico seguindo nomenclatura oficial.\n",
        "* `Município` - Coluna que contém o município da bandeira que efetuou a revenda do combustível.\n",
        "* `Revenda` - Nome do CNPJ que efetuou a revenda do combustível.\n",
        "* `CNPJ da Revenda` - Número do CNPJ que efetuou a revenda do combustível.\n",
        "* `Nome da Rua` - Endereço do CNPJ que efetuou a revenda do combustível.\n",
        "* `Número Rua` - Número do endereço do CNPJ que efetuou a revenda do combustível.\n",
        "* `Complemento` - Complemento do endereço do CNPJ que efetuou a revenda do combustível.\n",
        "* `Bairro` - Bairro do endereço do CNPJ que efetuou a revenda do combustível.\n",
        "* `Cep` - Cep do endereço do CNPJ que efetuou a revenda do combustível.\n",
        "* `Produto` - Produto que foi vendido pelo CNPJ.\n",
        "* `Data da Coleta` - Data em que a empresa responsável efetuou a pesquisa junto a Revenda.\n",
        "* `Valor de Venda` - Valor que foi vendido o litro do combustível vendido.\n",
        "* `Valor de Compra` - Valor que foi vendido o litro do combustível comprado.\n",
        "* `Unidade de Medida` - Unidade de medida do valor por litro que foi vendido.\n",
        "* `Bandeira` - Bandeira do posto de gasolina.\n"
      ],
      "metadata": {
        "id": "PkshEWHq3twc"
      }
    },
    {
      "cell_type": "markdown",
      "source": [
        "E por fim, nesta etapa, é interessante visualizarmos a estrutura do nosso dataset com a possibilidade de identificação prematura de dados faltantes, possíveis valores discrepantes, dentre outras questões:"
      ],
      "metadata": {
        "id": "qksjZX6d4cvf"
      }
    },
    {
      "cell_type": "code",
      "source": [
        "# Visualizar as 5 primeiras linhas do Dataset.\n",
        "\n",
        "df.head()"
      ],
      "metadata": {
        "id": "Url2fs134wPt",
        "colab": {
          "base_uri": "https://localhost:8080/",
          "height": 354
        },
        "outputId": "9e05f42d-a6cd-4450-8f6e-418f87df9cac"
      },
      "execution_count": 225,
      "outputs": [
        {
          "output_type": "execute_result",
          "data": {
            "text/html": [
              "\n",
              "  <div id=\"df-6651816b-22d1-4e6f-9999-722ad22b6a30\">\n",
              "    <div class=\"colab-df-container\">\n",
              "      <div>\n",
              "<style scoped>\n",
              "    .dataframe tbody tr th:only-of-type {\n",
              "        vertical-align: middle;\n",
              "    }\n",
              "\n",
              "    .dataframe tbody tr th {\n",
              "        vertical-align: top;\n",
              "    }\n",
              "\n",
              "    .dataframe thead th {\n",
              "        text-align: right;\n",
              "    }\n",
              "</style>\n",
              "<table border=\"1\" class=\"dataframe\">\n",
              "  <thead>\n",
              "    <tr style=\"text-align: right;\">\n",
              "      <th></th>\n",
              "      <th>Região - Sigla</th>\n",
              "      <th>Estado - Sigla</th>\n",
              "      <th>Município</th>\n",
              "      <th>Revenda</th>\n",
              "      <th>CNPJ da Revenda</th>\n",
              "      <th>Nome da Rua</th>\n",
              "      <th>Número Rua</th>\n",
              "      <th>Complemento</th>\n",
              "      <th>Bairro</th>\n",
              "      <th>Cep</th>\n",
              "      <th>Produto</th>\n",
              "      <th>Data da Coleta</th>\n",
              "      <th>Valor de Venda</th>\n",
              "      <th>Valor de Compra</th>\n",
              "      <th>Unidade de Medida</th>\n",
              "      <th>Bandeira</th>\n",
              "      <th>Mes</th>\n",
              "    </tr>\n",
              "  </thead>\n",
              "  <tbody>\n",
              "    <tr>\n",
              "      <th>0</th>\n",
              "      <td>N</td>\n",
              "      <td>AC</td>\n",
              "      <td>CRUZEIRO DO SUL</td>\n",
              "      <td>CARDINAL E OLIVEIRA LTDA</td>\n",
              "      <td>03.608.766/0005-75</td>\n",
              "      <td>AVENIDA BOULEVARD THAUMATURGO</td>\n",
              "      <td>1031</td>\n",
              "      <td>NaN</td>\n",
              "      <td>CENTRO</td>\n",
              "      <td>69980-000</td>\n",
              "      <td>GASOLINA</td>\n",
              "      <td>02/06/2021</td>\n",
              "      <td>6,89</td>\n",
              "      <td>NaN</td>\n",
              "      <td>R$ / litro</td>\n",
              "      <td>PETROBRAS DISTRIBUIDORA S.A.</td>\n",
              "      <td>junho</td>\n",
              "    </tr>\n",
              "    <tr>\n",
              "      <th>1</th>\n",
              "      <td>N</td>\n",
              "      <td>AC</td>\n",
              "      <td>CRUZEIRO DO SUL</td>\n",
              "      <td>CARDINAL E OLIVEIRA LTDA</td>\n",
              "      <td>03.608.766/0005-75</td>\n",
              "      <td>AVENIDA BOULEVARD THAUMATURGO</td>\n",
              "      <td>1031</td>\n",
              "      <td>NaN</td>\n",
              "      <td>CENTRO</td>\n",
              "      <td>69980-000</td>\n",
              "      <td>GASOLINA ADITIVADA</td>\n",
              "      <td>02/06/2021</td>\n",
              "      <td>6,89</td>\n",
              "      <td>NaN</td>\n",
              "      <td>R$ / litro</td>\n",
              "      <td>PETROBRAS DISTRIBUIDORA S.A.</td>\n",
              "      <td>junho</td>\n",
              "    </tr>\n",
              "    <tr>\n",
              "      <th>2</th>\n",
              "      <td>N</td>\n",
              "      <td>AC</td>\n",
              "      <td>CRUZEIRO DO SUL</td>\n",
              "      <td>CARDINAL E OLIVEIRA LTDA</td>\n",
              "      <td>03.608.766/0006-56</td>\n",
              "      <td>AVENIDA 25 DE AGOSTO</td>\n",
              "      <td>1350</td>\n",
              "      <td>NaN</td>\n",
              "      <td>25 DE AGOSTO</td>\n",
              "      <td>69980-000</td>\n",
              "      <td>ETANOL</td>\n",
              "      <td>01/06/2021</td>\n",
              "      <td>6,1</td>\n",
              "      <td>NaN</td>\n",
              "      <td>R$ / litro</td>\n",
              "      <td>PETROBRAS DISTRIBUIDORA S.A.</td>\n",
              "      <td>junho</td>\n",
              "    </tr>\n",
              "    <tr>\n",
              "      <th>3</th>\n",
              "      <td>N</td>\n",
              "      <td>AC</td>\n",
              "      <td>CRUZEIRO DO SUL</td>\n",
              "      <td>CARDINAL E OLIVEIRA LTDA</td>\n",
              "      <td>03.608.766/0006-56</td>\n",
              "      <td>AVENIDA 25 DE AGOSTO</td>\n",
              "      <td>1350</td>\n",
              "      <td>NaN</td>\n",
              "      <td>25 DE AGOSTO</td>\n",
              "      <td>69980-000</td>\n",
              "      <td>GASOLINA</td>\n",
              "      <td>01/06/2021</td>\n",
              "      <td>6,89</td>\n",
              "      <td>NaN</td>\n",
              "      <td>R$ / litro</td>\n",
              "      <td>PETROBRAS DISTRIBUIDORA S.A.</td>\n",
              "      <td>junho</td>\n",
              "    </tr>\n",
              "    <tr>\n",
              "      <th>4</th>\n",
              "      <td>N</td>\n",
              "      <td>AC</td>\n",
              "      <td>CRUZEIRO DO SUL</td>\n",
              "      <td>CARDINAL E OLIVEIRA LTDA</td>\n",
              "      <td>03.608.766/0004-94</td>\n",
              "      <td>AVENIDA LAURO MULLER</td>\n",
              "      <td>943</td>\n",
              "      <td>NaN</td>\n",
              "      <td>JOÃO ALVES</td>\n",
              "      <td>69980-000</td>\n",
              "      <td>GASOLINA</td>\n",
              "      <td>02/06/2021</td>\n",
              "      <td>6,89</td>\n",
              "      <td>NaN</td>\n",
              "      <td>R$ / litro</td>\n",
              "      <td>BRANCA</td>\n",
              "      <td>junho</td>\n",
              "    </tr>\n",
              "  </tbody>\n",
              "</table>\n",
              "</div>\n",
              "      <button class=\"colab-df-convert\" onclick=\"convertToInteractive('df-6651816b-22d1-4e6f-9999-722ad22b6a30')\"\n",
              "              title=\"Convert this dataframe to an interactive table.\"\n",
              "              style=\"display:none;\">\n",
              "        \n",
              "  <svg xmlns=\"http://www.w3.org/2000/svg\" height=\"24px\"viewBox=\"0 0 24 24\"\n",
              "       width=\"24px\">\n",
              "    <path d=\"M0 0h24v24H0V0z\" fill=\"none\"/>\n",
              "    <path d=\"M18.56 5.44l.94 2.06.94-2.06 2.06-.94-2.06-.94-.94-2.06-.94 2.06-2.06.94zm-11 1L8.5 8.5l.94-2.06 2.06-.94-2.06-.94L8.5 2.5l-.94 2.06-2.06.94zm10 10l.94 2.06.94-2.06 2.06-.94-2.06-.94-.94-2.06-.94 2.06-2.06.94z\"/><path d=\"M17.41 7.96l-1.37-1.37c-.4-.4-.92-.59-1.43-.59-.52 0-1.04.2-1.43.59L10.3 9.45l-7.72 7.72c-.78.78-.78 2.05 0 2.83L4 21.41c.39.39.9.59 1.41.59.51 0 1.02-.2 1.41-.59l7.78-7.78 2.81-2.81c.8-.78.8-2.07 0-2.86zM5.41 20L4 18.59l7.72-7.72 1.47 1.35L5.41 20z\"/>\n",
              "  </svg>\n",
              "      </button>\n",
              "      \n",
              "  <style>\n",
              "    .colab-df-container {\n",
              "      display:flex;\n",
              "      flex-wrap:wrap;\n",
              "      gap: 12px;\n",
              "    }\n",
              "\n",
              "    .colab-df-convert {\n",
              "      background-color: #E8F0FE;\n",
              "      border: none;\n",
              "      border-radius: 50%;\n",
              "      cursor: pointer;\n",
              "      display: none;\n",
              "      fill: #1967D2;\n",
              "      height: 32px;\n",
              "      padding: 0 0 0 0;\n",
              "      width: 32px;\n",
              "    }\n",
              "\n",
              "    .colab-df-convert:hover {\n",
              "      background-color: #E2EBFA;\n",
              "      box-shadow: 0px 1px 2px rgba(60, 64, 67, 0.3), 0px 1px 3px 1px rgba(60, 64, 67, 0.15);\n",
              "      fill: #174EA6;\n",
              "    }\n",
              "\n",
              "    [theme=dark] .colab-df-convert {\n",
              "      background-color: #3B4455;\n",
              "      fill: #D2E3FC;\n",
              "    }\n",
              "\n",
              "    [theme=dark] .colab-df-convert:hover {\n",
              "      background-color: #434B5C;\n",
              "      box-shadow: 0px 1px 3px 1px rgba(0, 0, 0, 0.15);\n",
              "      filter: drop-shadow(0px 1px 2px rgba(0, 0, 0, 0.3));\n",
              "      fill: #FFFFFF;\n",
              "    }\n",
              "  </style>\n",
              "\n",
              "      <script>\n",
              "        const buttonEl =\n",
              "          document.querySelector('#df-6651816b-22d1-4e6f-9999-722ad22b6a30 button.colab-df-convert');\n",
              "        buttonEl.style.display =\n",
              "          google.colab.kernel.accessAllowed ? 'block' : 'none';\n",
              "\n",
              "        async function convertToInteractive(key) {\n",
              "          const element = document.querySelector('#df-6651816b-22d1-4e6f-9999-722ad22b6a30');\n",
              "          const dataTable =\n",
              "            await google.colab.kernel.invokeFunction('convertToInteractive',\n",
              "                                                     [key], {});\n",
              "          if (!dataTable) return;\n",
              "\n",
              "          const docLinkHtml = 'Like what you see? Visit the ' +\n",
              "            '<a target=\"_blank\" href=https://colab.research.google.com/notebooks/data_table.ipynb>data table notebook</a>'\n",
              "            + ' to learn more about interactive tables.';\n",
              "          element.innerHTML = '';\n",
              "          dataTable['output_type'] = 'display_data';\n",
              "          await google.colab.output.renderOutput(dataTable, element);\n",
              "          const docLink = document.createElement('div');\n",
              "          docLink.innerHTML = docLinkHtml;\n",
              "          element.appendChild(docLink);\n",
              "        }\n",
              "      </script>\n",
              "    </div>\n",
              "  </div>\n",
              "  "
            ],
            "text/plain": [
              "  Região - Sigla Estado - Sigla  ...                      Bandeira    Mes\n",
              "0              N             AC  ...  PETROBRAS DISTRIBUIDORA S.A.  junho\n",
              "1              N             AC  ...  PETROBRAS DISTRIBUIDORA S.A.  junho\n",
              "2              N             AC  ...  PETROBRAS DISTRIBUIDORA S.A.  junho\n",
              "3              N             AC  ...  PETROBRAS DISTRIBUIDORA S.A.  junho\n",
              "4              N             AC  ...                        BRANCA  junho\n",
              "\n",
              "[5 rows x 17 columns]"
            ]
          },
          "metadata": {},
          "execution_count": 225
        }
      ]
    },
    {
      "cell_type": "code",
      "source": [
        "# Visualizar as 5 últimas linhas do Dataset.\n",
        "\n",
        "df.tail()"
      ],
      "metadata": {
        "id": "h4SxYEtL43ME",
        "colab": {
          "base_uri": "https://localhost:8080/",
          "height": 354
        },
        "outputId": "2a45c0f1-d907-434c-a7a7-f1e649ef3986"
      },
      "execution_count": 226,
      "outputs": [
        {
          "output_type": "execute_result",
          "data": {
            "text/html": [
              "\n",
              "  <div id=\"df-d1784881-52b3-4007-b6d1-b33c6fba511e\">\n",
              "    <div class=\"colab-df-container\">\n",
              "      <div>\n",
              "<style scoped>\n",
              "    .dataframe tbody tr th:only-of-type {\n",
              "        vertical-align: middle;\n",
              "    }\n",
              "\n",
              "    .dataframe tbody tr th {\n",
              "        vertical-align: top;\n",
              "    }\n",
              "\n",
              "    .dataframe thead th {\n",
              "        text-align: right;\n",
              "    }\n",
              "</style>\n",
              "<table border=\"1\" class=\"dataframe\">\n",
              "  <thead>\n",
              "    <tr style=\"text-align: right;\">\n",
              "      <th></th>\n",
              "      <th>Região - Sigla</th>\n",
              "      <th>Estado - Sigla</th>\n",
              "      <th>Município</th>\n",
              "      <th>Revenda</th>\n",
              "      <th>CNPJ da Revenda</th>\n",
              "      <th>Nome da Rua</th>\n",
              "      <th>Número Rua</th>\n",
              "      <th>Complemento</th>\n",
              "      <th>Bairro</th>\n",
              "      <th>Cep</th>\n",
              "      <th>Produto</th>\n",
              "      <th>Data da Coleta</th>\n",
              "      <th>Valor de Venda</th>\n",
              "      <th>Valor de Compra</th>\n",
              "      <th>Unidade de Medida</th>\n",
              "      <th>Bandeira</th>\n",
              "      <th>Mes</th>\n",
              "    </tr>\n",
              "  </thead>\n",
              "  <tbody>\n",
              "    <tr>\n",
              "      <th>97581</th>\n",
              "      <td>SE</td>\n",
              "      <td>ES</td>\n",
              "      <td>ARACRUZ</td>\n",
              "      <td>POSTO DE COMBUSTIVEL SHOW EIRELI</td>\n",
              "      <td>23.797.660/0001-40</td>\n",
              "      <td>AVENIDA CORONEL VENANCIO FLORES</td>\n",
              "      <td>28</td>\n",
              "      <td>NaN</td>\n",
              "      <td>CENTRO</td>\n",
              "      <td>29190-010</td>\n",
              "      <td>GASOLINA ADITIVADA</td>\n",
              "      <td>26/07/2021</td>\n",
              "      <td>5,87</td>\n",
              "      <td>NaN</td>\n",
              "      <td>R$ / litro</td>\n",
              "      <td>BRANCA</td>\n",
              "      <td>julho</td>\n",
              "    </tr>\n",
              "    <tr>\n",
              "      <th>97582</th>\n",
              "      <td>SE</td>\n",
              "      <td>ES</td>\n",
              "      <td>ARACRUZ</td>\n",
              "      <td>POSTO DE COMBUSTIVEL SHOW EIRELI</td>\n",
              "      <td>23.797.660/0001-40</td>\n",
              "      <td>AVENIDA CORONEL VENANCIO FLORES</td>\n",
              "      <td>28</td>\n",
              "      <td>NaN</td>\n",
              "      <td>CENTRO</td>\n",
              "      <td>29190-010</td>\n",
              "      <td>ETANOL</td>\n",
              "      <td>26/07/2021</td>\n",
              "      <td>4,99</td>\n",
              "      <td>NaN</td>\n",
              "      <td>R$ / litro</td>\n",
              "      <td>BRANCA</td>\n",
              "      <td>julho</td>\n",
              "    </tr>\n",
              "    <tr>\n",
              "      <th>97583</th>\n",
              "      <td>SE</td>\n",
              "      <td>ES</td>\n",
              "      <td>ARACRUZ</td>\n",
              "      <td>POSTO DE COMBUSTIVEL SHOW EIRELI</td>\n",
              "      <td>23.797.660/0001-40</td>\n",
              "      <td>AVENIDA CORONEL VENANCIO FLORES</td>\n",
              "      <td>28</td>\n",
              "      <td>NaN</td>\n",
              "      <td>CENTRO</td>\n",
              "      <td>29190-010</td>\n",
              "      <td>GASOLINA</td>\n",
              "      <td>26/07/2021</td>\n",
              "      <td>5,87</td>\n",
              "      <td>NaN</td>\n",
              "      <td>R$ / litro</td>\n",
              "      <td>BRANCA</td>\n",
              "      <td>julho</td>\n",
              "    </tr>\n",
              "    <tr>\n",
              "      <th>97584</th>\n",
              "      <td>SE</td>\n",
              "      <td>MG</td>\n",
              "      <td>ARAXA</td>\n",
              "      <td>AUTO POSTO BRANQUINHO LTDA</td>\n",
              "      <td>37.461.683/0001-94</td>\n",
              "      <td>AVENIDA SENADOR MONTANDON</td>\n",
              "      <td>950</td>\n",
              "      <td>NaN</td>\n",
              "      <td>CENTRO</td>\n",
              "      <td>38183-214</td>\n",
              "      <td>ETANOL</td>\n",
              "      <td>28/07/2021</td>\n",
              "      <td>4,599</td>\n",
              "      <td>NaN</td>\n",
              "      <td>R$ / litro</td>\n",
              "      <td>RIO BRANCO</td>\n",
              "      <td>julho</td>\n",
              "    </tr>\n",
              "    <tr>\n",
              "      <th>97585</th>\n",
              "      <td>SE</td>\n",
              "      <td>MG</td>\n",
              "      <td>ARAXA</td>\n",
              "      <td>AUTO POSTO BRANQUINHO LTDA</td>\n",
              "      <td>37.461.683/0001-94</td>\n",
              "      <td>AVENIDA SENADOR MONTANDON</td>\n",
              "      <td>950</td>\n",
              "      <td>NaN</td>\n",
              "      <td>CENTRO</td>\n",
              "      <td>38183-214</td>\n",
              "      <td>GASOLINA</td>\n",
              "      <td>28/07/2021</td>\n",
              "      <td>6,199</td>\n",
              "      <td>NaN</td>\n",
              "      <td>R$ / litro</td>\n",
              "      <td>RIO BRANCO</td>\n",
              "      <td>julho</td>\n",
              "    </tr>\n",
              "  </tbody>\n",
              "</table>\n",
              "</div>\n",
              "      <button class=\"colab-df-convert\" onclick=\"convertToInteractive('df-d1784881-52b3-4007-b6d1-b33c6fba511e')\"\n",
              "              title=\"Convert this dataframe to an interactive table.\"\n",
              "              style=\"display:none;\">\n",
              "        \n",
              "  <svg xmlns=\"http://www.w3.org/2000/svg\" height=\"24px\"viewBox=\"0 0 24 24\"\n",
              "       width=\"24px\">\n",
              "    <path d=\"M0 0h24v24H0V0z\" fill=\"none\"/>\n",
              "    <path d=\"M18.56 5.44l.94 2.06.94-2.06 2.06-.94-2.06-.94-.94-2.06-.94 2.06-2.06.94zm-11 1L8.5 8.5l.94-2.06 2.06-.94-2.06-.94L8.5 2.5l-.94 2.06-2.06.94zm10 10l.94 2.06.94-2.06 2.06-.94-2.06-.94-.94-2.06-.94 2.06-2.06.94z\"/><path d=\"M17.41 7.96l-1.37-1.37c-.4-.4-.92-.59-1.43-.59-.52 0-1.04.2-1.43.59L10.3 9.45l-7.72 7.72c-.78.78-.78 2.05 0 2.83L4 21.41c.39.39.9.59 1.41.59.51 0 1.02-.2 1.41-.59l7.78-7.78 2.81-2.81c.8-.78.8-2.07 0-2.86zM5.41 20L4 18.59l7.72-7.72 1.47 1.35L5.41 20z\"/>\n",
              "  </svg>\n",
              "      </button>\n",
              "      \n",
              "  <style>\n",
              "    .colab-df-container {\n",
              "      display:flex;\n",
              "      flex-wrap:wrap;\n",
              "      gap: 12px;\n",
              "    }\n",
              "\n",
              "    .colab-df-convert {\n",
              "      background-color: #E8F0FE;\n",
              "      border: none;\n",
              "      border-radius: 50%;\n",
              "      cursor: pointer;\n",
              "      display: none;\n",
              "      fill: #1967D2;\n",
              "      height: 32px;\n",
              "      padding: 0 0 0 0;\n",
              "      width: 32px;\n",
              "    }\n",
              "\n",
              "    .colab-df-convert:hover {\n",
              "      background-color: #E2EBFA;\n",
              "      box-shadow: 0px 1px 2px rgba(60, 64, 67, 0.3), 0px 1px 3px 1px rgba(60, 64, 67, 0.15);\n",
              "      fill: #174EA6;\n",
              "    }\n",
              "\n",
              "    [theme=dark] .colab-df-convert {\n",
              "      background-color: #3B4455;\n",
              "      fill: #D2E3FC;\n",
              "    }\n",
              "\n",
              "    [theme=dark] .colab-df-convert:hover {\n",
              "      background-color: #434B5C;\n",
              "      box-shadow: 0px 1px 3px 1px rgba(0, 0, 0, 0.15);\n",
              "      filter: drop-shadow(0px 1px 2px rgba(0, 0, 0, 0.3));\n",
              "      fill: #FFFFFF;\n",
              "    }\n",
              "  </style>\n",
              "\n",
              "      <script>\n",
              "        const buttonEl =\n",
              "          document.querySelector('#df-d1784881-52b3-4007-b6d1-b33c6fba511e button.colab-df-convert');\n",
              "        buttonEl.style.display =\n",
              "          google.colab.kernel.accessAllowed ? 'block' : 'none';\n",
              "\n",
              "        async function convertToInteractive(key) {\n",
              "          const element = document.querySelector('#df-d1784881-52b3-4007-b6d1-b33c6fba511e');\n",
              "          const dataTable =\n",
              "            await google.colab.kernel.invokeFunction('convertToInteractive',\n",
              "                                                     [key], {});\n",
              "          if (!dataTable) return;\n",
              "\n",
              "          const docLinkHtml = 'Like what you see? Visit the ' +\n",
              "            '<a target=\"_blank\" href=https://colab.research.google.com/notebooks/data_table.ipynb>data table notebook</a>'\n",
              "            + ' to learn more about interactive tables.';\n",
              "          element.innerHTML = '';\n",
              "          dataTable['output_type'] = 'display_data';\n",
              "          await google.colab.output.renderOutput(dataTable, element);\n",
              "          const docLink = document.createElement('div');\n",
              "          docLink.innerHTML = docLinkHtml;\n",
              "          element.appendChild(docLink);\n",
              "        }\n",
              "      </script>\n",
              "    </div>\n",
              "  </div>\n",
              "  "
            ],
            "text/plain": [
              "      Região - Sigla Estado - Sigla  ...    Bandeira    Mes\n",
              "97581             SE             ES  ...      BRANCA  julho\n",
              "97582             SE             ES  ...      BRANCA  julho\n",
              "97583             SE             ES  ...      BRANCA  julho\n",
              "97584             SE             MG  ...  RIO BRANCO  julho\n",
              "97585             SE             MG  ...  RIO BRANCO  julho\n",
              "\n",
              "[5 rows x 17 columns]"
            ]
          },
          "metadata": {},
          "execution_count": 226
        }
      ]
    },
    {
      "cell_type": "markdown",
      "source": [
        "## **4. Preparação e limpeza dos dados:** \n",
        "\n",
        "Nesta etapa estaremos limpando os dados, integrando os dados, formatando os dados, construindo novos dados, para enfim, selecionar os dados que serão utilizados na construção de nosso modelo (análise exploratória de dados)."
      ],
      "metadata": {
        "id": "topBrf-T5RHF"
      }
    },
    {
      "cell_type": "markdown",
      "source": [
        "##### **4.1 Selecionando os dados:**\n",
        "\n",
        "Verificamos que temos alguns dados que não serão determinantes na nossa análise e optamos por retirá-los para termos mais clareza durante a análise. "
      ],
      "metadata": {
        "id": "nABsZXVO9Jw4"
      }
    },
    {
      "cell_type": "code",
      "execution_count": 227,
      "metadata": {
        "id": "2BBp6GZOMiWe"
      },
      "outputs": [],
      "source": [
        "# Selecionando as colunas necessárias para a análise e renomeando colunas para facilitar o acesso aos dados\n",
        "\n",
        "df = df[['Região - Sigla', 'Estado - Sigla', 'Município', 'Revenda','Produto', 'Valor de Venda', 'Data da Coleta','Bandeira', 'Mes']]\n",
        "df = df.rename(columns={'Região - Sigla': 'Regiao', 'Estado - Sigla': 'Estado', 'Município':'Municipio', 'Valor de Venda': 'Valor', 'Data da Coleta':'Data'})"
      ]
    },
    {
      "cell_type": "markdown",
      "source": [
        "##### **4.2 Consulta extra:**\n",
        "Além disso, criamos um DataFrame para totalização de revendas por estado para posterior utilização:"
      ],
      "metadata": {
        "id": "nvJTyvqICaWr"
      }
    },
    {
      "cell_type": "code",
      "source": [
        "tot_rev = df.groupby('Estado')['Revenda'].count().sort_values(ascending=False).reset_index()"
      ],
      "metadata": {
        "id": "qbn5ehayDRkX"
      },
      "execution_count": 272,
      "outputs": []
    },
    {
      "cell_type": "markdown",
      "metadata": {
        "id": "VTWRAoBoMEdR"
      },
      "source": [
        "##### **4.3 Integração dos Dados:**\n",
        "\n",
        "Conforme exposto em aula a análise poderia ser feita unindo os dois tipos de gasolina, gasolina comum e gasolina aditivada. Aqui faremos a transformação da gasolina aditivada para simplesmente gasolina:"
      ]
    },
    {
      "cell_type": "code",
      "execution_count": 228,
      "metadata": {
        "id": "gmMJqj6aMD6c"
      },
      "outputs": [],
      "source": [
        "# Verificando onde o produto é 'GASOLINA ADITIVADA' e convertendo para 'GASOLINA'\n",
        "\n",
        "df['Produto'][df['Produto'].str.contains('GASOLINA ADITIVADA')] = 'GASOLINA'"
      ]
    },
    {
      "cell_type": "markdown",
      "metadata": {
        "id": "kC1v-vheUl61"
      },
      "source": [
        "##### **4.4 Convertendo os valores:**\n",
        "\n",
        "Identificamos que a coluna valor trata-se de uma variável numérica e vamos converter o valor para float com a substituição da ',' (vírgula) pelo '.' (ponto):"
      ]
    },
    {
      "cell_type": "code",
      "execution_count": 229,
      "metadata": {
        "id": "ppFF_frgOO8P",
        "colab": {
          "base_uri": "https://localhost:8080/",
          "height": 424
        },
        "outputId": "079fc25e-3d68-4869-9e34-9982f7635e91"
      },
      "outputs": [
        {
          "output_type": "execute_result",
          "data": {
            "text/html": [
              "\n",
              "  <div id=\"df-c8ac3fda-1a46-4208-8568-f3d547d0a4f7\">\n",
              "    <div class=\"colab-df-container\">\n",
              "      <div>\n",
              "<style scoped>\n",
              "    .dataframe tbody tr th:only-of-type {\n",
              "        vertical-align: middle;\n",
              "    }\n",
              "\n",
              "    .dataframe tbody tr th {\n",
              "        vertical-align: top;\n",
              "    }\n",
              "\n",
              "    .dataframe thead th {\n",
              "        text-align: right;\n",
              "    }\n",
              "</style>\n",
              "<table border=\"1\" class=\"dataframe\">\n",
              "  <thead>\n",
              "    <tr style=\"text-align: right;\">\n",
              "      <th></th>\n",
              "      <th>Regiao</th>\n",
              "      <th>Estado</th>\n",
              "      <th>Municipio</th>\n",
              "      <th>Revenda</th>\n",
              "      <th>Produto</th>\n",
              "      <th>Valor</th>\n",
              "      <th>Data</th>\n",
              "      <th>Bandeira</th>\n",
              "      <th>Mes</th>\n",
              "    </tr>\n",
              "  </thead>\n",
              "  <tbody>\n",
              "    <tr>\n",
              "      <th>0</th>\n",
              "      <td>N</td>\n",
              "      <td>AC</td>\n",
              "      <td>CRUZEIRO DO SUL</td>\n",
              "      <td>CARDINAL E OLIVEIRA LTDA</td>\n",
              "      <td>GASOLINA</td>\n",
              "      <td>6.890</td>\n",
              "      <td>02/06/2021</td>\n",
              "      <td>PETROBRAS DISTRIBUIDORA S.A.</td>\n",
              "      <td>junho</td>\n",
              "    </tr>\n",
              "    <tr>\n",
              "      <th>1</th>\n",
              "      <td>N</td>\n",
              "      <td>AC</td>\n",
              "      <td>CRUZEIRO DO SUL</td>\n",
              "      <td>CARDINAL E OLIVEIRA LTDA</td>\n",
              "      <td>GASOLINA</td>\n",
              "      <td>6.890</td>\n",
              "      <td>02/06/2021</td>\n",
              "      <td>PETROBRAS DISTRIBUIDORA S.A.</td>\n",
              "      <td>junho</td>\n",
              "    </tr>\n",
              "    <tr>\n",
              "      <th>2</th>\n",
              "      <td>N</td>\n",
              "      <td>AC</td>\n",
              "      <td>CRUZEIRO DO SUL</td>\n",
              "      <td>CARDINAL E OLIVEIRA LTDA</td>\n",
              "      <td>ETANOL</td>\n",
              "      <td>6.100</td>\n",
              "      <td>01/06/2021</td>\n",
              "      <td>PETROBRAS DISTRIBUIDORA S.A.</td>\n",
              "      <td>junho</td>\n",
              "    </tr>\n",
              "    <tr>\n",
              "      <th>3</th>\n",
              "      <td>N</td>\n",
              "      <td>AC</td>\n",
              "      <td>CRUZEIRO DO SUL</td>\n",
              "      <td>CARDINAL E OLIVEIRA LTDA</td>\n",
              "      <td>GASOLINA</td>\n",
              "      <td>6.890</td>\n",
              "      <td>01/06/2021</td>\n",
              "      <td>PETROBRAS DISTRIBUIDORA S.A.</td>\n",
              "      <td>junho</td>\n",
              "    </tr>\n",
              "    <tr>\n",
              "      <th>4</th>\n",
              "      <td>N</td>\n",
              "      <td>AC</td>\n",
              "      <td>CRUZEIRO DO SUL</td>\n",
              "      <td>CARDINAL E OLIVEIRA LTDA</td>\n",
              "      <td>GASOLINA</td>\n",
              "      <td>6.890</td>\n",
              "      <td>02/06/2021</td>\n",
              "      <td>BRANCA</td>\n",
              "      <td>junho</td>\n",
              "    </tr>\n",
              "    <tr>\n",
              "      <th>...</th>\n",
              "      <td>...</td>\n",
              "      <td>...</td>\n",
              "      <td>...</td>\n",
              "      <td>...</td>\n",
              "      <td>...</td>\n",
              "      <td>...</td>\n",
              "      <td>...</td>\n",
              "      <td>...</td>\n",
              "      <td>...</td>\n",
              "    </tr>\n",
              "    <tr>\n",
              "      <th>97581</th>\n",
              "      <td>SE</td>\n",
              "      <td>ES</td>\n",
              "      <td>ARACRUZ</td>\n",
              "      <td>POSTO DE COMBUSTIVEL SHOW EIRELI</td>\n",
              "      <td>GASOLINA</td>\n",
              "      <td>5.870</td>\n",
              "      <td>26/07/2021</td>\n",
              "      <td>BRANCA</td>\n",
              "      <td>julho</td>\n",
              "    </tr>\n",
              "    <tr>\n",
              "      <th>97582</th>\n",
              "      <td>SE</td>\n",
              "      <td>ES</td>\n",
              "      <td>ARACRUZ</td>\n",
              "      <td>POSTO DE COMBUSTIVEL SHOW EIRELI</td>\n",
              "      <td>ETANOL</td>\n",
              "      <td>4.990</td>\n",
              "      <td>26/07/2021</td>\n",
              "      <td>BRANCA</td>\n",
              "      <td>julho</td>\n",
              "    </tr>\n",
              "    <tr>\n",
              "      <th>97583</th>\n",
              "      <td>SE</td>\n",
              "      <td>ES</td>\n",
              "      <td>ARACRUZ</td>\n",
              "      <td>POSTO DE COMBUSTIVEL SHOW EIRELI</td>\n",
              "      <td>GASOLINA</td>\n",
              "      <td>5.870</td>\n",
              "      <td>26/07/2021</td>\n",
              "      <td>BRANCA</td>\n",
              "      <td>julho</td>\n",
              "    </tr>\n",
              "    <tr>\n",
              "      <th>97584</th>\n",
              "      <td>SE</td>\n",
              "      <td>MG</td>\n",
              "      <td>ARAXA</td>\n",
              "      <td>AUTO POSTO BRANQUINHO LTDA</td>\n",
              "      <td>ETANOL</td>\n",
              "      <td>4.599</td>\n",
              "      <td>28/07/2021</td>\n",
              "      <td>RIO BRANCO</td>\n",
              "      <td>julho</td>\n",
              "    </tr>\n",
              "    <tr>\n",
              "      <th>97585</th>\n",
              "      <td>SE</td>\n",
              "      <td>MG</td>\n",
              "      <td>ARAXA</td>\n",
              "      <td>AUTO POSTO BRANQUINHO LTDA</td>\n",
              "      <td>GASOLINA</td>\n",
              "      <td>6.199</td>\n",
              "      <td>28/07/2021</td>\n",
              "      <td>RIO BRANCO</td>\n",
              "      <td>julho</td>\n",
              "    </tr>\n",
              "  </tbody>\n",
              "</table>\n",
              "<p>97586 rows × 9 columns</p>\n",
              "</div>\n",
              "      <button class=\"colab-df-convert\" onclick=\"convertToInteractive('df-c8ac3fda-1a46-4208-8568-f3d547d0a4f7')\"\n",
              "              title=\"Convert this dataframe to an interactive table.\"\n",
              "              style=\"display:none;\">\n",
              "        \n",
              "  <svg xmlns=\"http://www.w3.org/2000/svg\" height=\"24px\"viewBox=\"0 0 24 24\"\n",
              "       width=\"24px\">\n",
              "    <path d=\"M0 0h24v24H0V0z\" fill=\"none\"/>\n",
              "    <path d=\"M18.56 5.44l.94 2.06.94-2.06 2.06-.94-2.06-.94-.94-2.06-.94 2.06-2.06.94zm-11 1L8.5 8.5l.94-2.06 2.06-.94-2.06-.94L8.5 2.5l-.94 2.06-2.06.94zm10 10l.94 2.06.94-2.06 2.06-.94-2.06-.94-.94-2.06-.94 2.06-2.06.94z\"/><path d=\"M17.41 7.96l-1.37-1.37c-.4-.4-.92-.59-1.43-.59-.52 0-1.04.2-1.43.59L10.3 9.45l-7.72 7.72c-.78.78-.78 2.05 0 2.83L4 21.41c.39.39.9.59 1.41.59.51 0 1.02-.2 1.41-.59l7.78-7.78 2.81-2.81c.8-.78.8-2.07 0-2.86zM5.41 20L4 18.59l7.72-7.72 1.47 1.35L5.41 20z\"/>\n",
              "  </svg>\n",
              "      </button>\n",
              "      \n",
              "  <style>\n",
              "    .colab-df-container {\n",
              "      display:flex;\n",
              "      flex-wrap:wrap;\n",
              "      gap: 12px;\n",
              "    }\n",
              "\n",
              "    .colab-df-convert {\n",
              "      background-color: #E8F0FE;\n",
              "      border: none;\n",
              "      border-radius: 50%;\n",
              "      cursor: pointer;\n",
              "      display: none;\n",
              "      fill: #1967D2;\n",
              "      height: 32px;\n",
              "      padding: 0 0 0 0;\n",
              "      width: 32px;\n",
              "    }\n",
              "\n",
              "    .colab-df-convert:hover {\n",
              "      background-color: #E2EBFA;\n",
              "      box-shadow: 0px 1px 2px rgba(60, 64, 67, 0.3), 0px 1px 3px 1px rgba(60, 64, 67, 0.15);\n",
              "      fill: #174EA6;\n",
              "    }\n",
              "\n",
              "    [theme=dark] .colab-df-convert {\n",
              "      background-color: #3B4455;\n",
              "      fill: #D2E3FC;\n",
              "    }\n",
              "\n",
              "    [theme=dark] .colab-df-convert:hover {\n",
              "      background-color: #434B5C;\n",
              "      box-shadow: 0px 1px 3px 1px rgba(0, 0, 0, 0.15);\n",
              "      filter: drop-shadow(0px 1px 2px rgba(0, 0, 0, 0.3));\n",
              "      fill: #FFFFFF;\n",
              "    }\n",
              "  </style>\n",
              "\n",
              "      <script>\n",
              "        const buttonEl =\n",
              "          document.querySelector('#df-c8ac3fda-1a46-4208-8568-f3d547d0a4f7 button.colab-df-convert');\n",
              "        buttonEl.style.display =\n",
              "          google.colab.kernel.accessAllowed ? 'block' : 'none';\n",
              "\n",
              "        async function convertToInteractive(key) {\n",
              "          const element = document.querySelector('#df-c8ac3fda-1a46-4208-8568-f3d547d0a4f7');\n",
              "          const dataTable =\n",
              "            await google.colab.kernel.invokeFunction('convertToInteractive',\n",
              "                                                     [key], {});\n",
              "          if (!dataTable) return;\n",
              "\n",
              "          const docLinkHtml = 'Like what you see? Visit the ' +\n",
              "            '<a target=\"_blank\" href=https://colab.research.google.com/notebooks/data_table.ipynb>data table notebook</a>'\n",
              "            + ' to learn more about interactive tables.';\n",
              "          element.innerHTML = '';\n",
              "          dataTable['output_type'] = 'display_data';\n",
              "          await google.colab.output.renderOutput(dataTable, element);\n",
              "          const docLink = document.createElement('div');\n",
              "          docLink.innerHTML = docLinkHtml;\n",
              "          element.appendChild(docLink);\n",
              "        }\n",
              "      </script>\n",
              "    </div>\n",
              "  </div>\n",
              "  "
            ],
            "text/plain": [
              "      Regiao Estado  ...                      Bandeira    Mes\n",
              "0          N     AC  ...  PETROBRAS DISTRIBUIDORA S.A.  junho\n",
              "1          N     AC  ...  PETROBRAS DISTRIBUIDORA S.A.  junho\n",
              "2          N     AC  ...  PETROBRAS DISTRIBUIDORA S.A.  junho\n",
              "3          N     AC  ...  PETROBRAS DISTRIBUIDORA S.A.  junho\n",
              "4          N     AC  ...                        BRANCA  junho\n",
              "...      ...    ...  ...                           ...    ...\n",
              "97581     SE     ES  ...                        BRANCA  julho\n",
              "97582     SE     ES  ...                        BRANCA  julho\n",
              "97583     SE     ES  ...                        BRANCA  julho\n",
              "97584     SE     MG  ...                    RIO BRANCO  julho\n",
              "97585     SE     MG  ...                    RIO BRANCO  julho\n",
              "\n",
              "[97586 rows x 9 columns]"
            ]
          },
          "metadata": {},
          "execution_count": 229
        }
      ],
      "source": [
        "# Convertendo os valores para float\n",
        "\n",
        "df['Valor'] = df['Valor'].apply(lambda x: float(x.replace(',', '.')))\n",
        "df"
      ]
    },
    {
      "cell_type": "markdown",
      "source": [
        "Convertendo as datas para datetime:"
      ],
      "metadata": {
        "id": "NMVlJW9pHujU"
      }
    },
    {
      "cell_type": "code",
      "source": [
        "# Convertendo as datas para datetime\n",
        " \n",
        "df['Data'] = pd.to_datetime(df['Data'], format=\"%d/%m/%Y\")\n",
        "df.info()"
      ],
      "metadata": {
        "id": "1O8B79Jz5B8T",
        "colab": {
          "base_uri": "https://localhost:8080/"
        },
        "outputId": "06490cd4-4d89-40f7-b998-3c3d6b1dcf32"
      },
      "execution_count": 230,
      "outputs": [
        {
          "output_type": "stream",
          "name": "stdout",
          "text": [
            "<class 'pandas.core.frame.DataFrame'>\n",
            "RangeIndex: 97586 entries, 0 to 97585\n",
            "Data columns (total 9 columns):\n",
            " #   Column     Non-Null Count  Dtype         \n",
            "---  ------     --------------  -----         \n",
            " 0   Regiao     97586 non-null  object        \n",
            " 1   Estado     97586 non-null  object        \n",
            " 2   Municipio  97586 non-null  object        \n",
            " 3   Revenda    97586 non-null  object        \n",
            " 4   Produto    97586 non-null  object        \n",
            " 5   Valor      97586 non-null  float64       \n",
            " 6   Data       97586 non-null  datetime64[ns]\n",
            " 7   Bandeira   97586 non-null  object        \n",
            " 8   Mes        97586 non-null  object        \n",
            "dtypes: datetime64[ns](1), float64(1), object(7)\n",
            "memory usage: 6.7+ MB\n"
          ]
        }
      ]
    },
    {
      "cell_type": "markdown",
      "source": [
        "##### **4.5 Estatísticas Descritivas:**\n",
        "\n",
        "Agora que já conhecemos a estrutura de nossos dados, passamos para etapa de identificação da qualidade de nossos dados, por meio da aplicação de técnicas de estatística descritiva, com especial atenção para identificação de valores faltantes, presença de outliers, análise de correlações entre as variáveis, dentre outras questões relevantes nesta fase inicial."
      ],
      "metadata": {
        "id": "ufFYHD72hNGR"
      }
    },
    {
      "cell_type": "markdown",
      "metadata": {
        "id": "jNHprOEeeWfR"
      },
      "source": [
        "Verificar a quantidade de missing em cada coluna após a transformação:"
      ]
    },
    {
      "cell_type": "code",
      "execution_count": 232,
      "metadata": {
        "id": "5llceUD_KSVw",
        "colab": {
          "base_uri": "https://localhost:8080/"
        },
        "outputId": "0447e65a-f99a-4bdd-b1fb-de10fbde7c5a"
      },
      "outputs": [
        {
          "output_type": "execute_result",
          "data": {
            "text/plain": [
              "Regiao       0\n",
              "Estado       0\n",
              "Municipio    0\n",
              "Revenda      0\n",
              "Produto      0\n",
              "Valor        0\n",
              "Data         0\n",
              "Bandeira     0\n",
              "Mes          0\n",
              "dtype: int64"
            ]
          },
          "metadata": {},
          "execution_count": 232
        }
      ],
      "source": [
        "# Cálculo do percentual de dados faltantes no Dataset.\n",
        "\n",
        "df.isna().sum()"
      ]
    },
    {
      "cell_type": "markdown",
      "metadata": {
        "id": "xmE3E3iVVeNl"
      },
      "source": [
        "* Não existem valores nulos para serem removidos ou tratados."
      ]
    },
    {
      "cell_type": "code",
      "source": [
        "# Contrução dos histogramas das variáveis do dataset.\n",
        "\n",
        "df.hist(bins=15, figsize=(25,15));"
      ],
      "metadata": {
        "id": "ntdReA21hrDD",
        "colab": {
          "base_uri": "https://localhost:8080/",
          "height": 901
        },
        "outputId": "c3fa019f-b955-452d-9344-7d86bf049c62"
      },
      "execution_count": 233,
      "outputs": [
        {
          "output_type": "display_data",
          "data": {
            "image/png": "[encoded data removed]",
            "text/plain": [
              "<Figure size 1800x1080 with 2 Axes>"
            ]
          },
          "metadata": {}
        }
      ]
    },
    {
      "cell_type": "markdown",
      "source": [
        "**Quanto a distribuição do histograma podemos verificar que:**\n",
        "\n",
        "* Há um pico no **`Valor`** de venda de combustíveis entre 5.50 e 6.00 reais;\n",
        "* Existem períodos com maior coleta de dados."
      ],
      "metadata": {
        "id": "m2bPexUomSaO"
      }
    },
    {
      "cell_type": "code",
      "source": [
        "# Construindo os resumos estatísticos das variáveis numéricas usando a função describe.\n",
        "\n",
        "df.describe()"
      ],
      "metadata": {
        "id": "PCMY5gGVmLSW",
        "colab": {
          "base_uri": "https://localhost:8080/",
          "height": 300
        },
        "outputId": "968c1883-5b17-493f-c3b3-4cc1e64353de"
      },
      "execution_count": 234,
      "outputs": [
        {
          "output_type": "execute_result",
          "data": {
            "text/html": [
              "\n",
              "  <div id=\"df-4934bb9f-dd61-452f-9c53-b825bef8a79c\">\n",
              "    <div class=\"colab-df-container\">\n",
              "      <div>\n",
              "<style scoped>\n",
              "    .dataframe tbody tr th:only-of-type {\n",
              "        vertical-align: middle;\n",
              "    }\n",
              "\n",
              "    .dataframe tbody tr th {\n",
              "        vertical-align: top;\n",
              "    }\n",
              "\n",
              "    .dataframe thead th {\n",
              "        text-align: right;\n",
              "    }\n",
              "</style>\n",
              "<table border=\"1\" class=\"dataframe\">\n",
              "  <thead>\n",
              "    <tr style=\"text-align: right;\">\n",
              "      <th></th>\n",
              "      <th>Valor</th>\n",
              "    </tr>\n",
              "  </thead>\n",
              "  <tbody>\n",
              "    <tr>\n",
              "      <th>count</th>\n",
              "      <td>97586.000000</td>\n",
              "    </tr>\n",
              "    <tr>\n",
              "      <th>mean</th>\n",
              "      <td>5.384929</td>\n",
              "    </tr>\n",
              "    <tr>\n",
              "      <th>std</th>\n",
              "      <td>0.715136</td>\n",
              "    </tr>\n",
              "    <tr>\n",
              "      <th>min</th>\n",
              "      <td>3.097000</td>\n",
              "    </tr>\n",
              "    <tr>\n",
              "      <th>25%</th>\n",
              "      <td>4.990000</td>\n",
              "    </tr>\n",
              "    <tr>\n",
              "      <th>50%</th>\n",
              "      <td>5.550000</td>\n",
              "    </tr>\n",
              "    <tr>\n",
              "      <th>75%</th>\n",
              "      <td>5.899000</td>\n",
              "    </tr>\n",
              "    <tr>\n",
              "      <th>max</th>\n",
              "      <td>7.097000</td>\n",
              "    </tr>\n",
              "  </tbody>\n",
              "</table>\n",
              "</div>\n",
              "      <button class=\"colab-df-convert\" onclick=\"convertToInteractive('df-4934bb9f-dd61-452f-9c53-b825bef8a79c')\"\n",
              "              title=\"Convert this dataframe to an interactive table.\"\n",
              "              style=\"display:none;\">\n",
              "        \n",
              "  <svg xmlns=\"http://www.w3.org/2000/svg\" height=\"24px\"viewBox=\"0 0 24 24\"\n",
              "       width=\"24px\">\n",
              "    <path d=\"M0 0h24v24H0V0z\" fill=\"none\"/>\n",
              "    <path d=\"M18.56 5.44l.94 2.06.94-2.06 2.06-.94-2.06-.94-.94-2.06-.94 2.06-2.06.94zm-11 1L8.5 8.5l.94-2.06 2.06-.94-2.06-.94L8.5 2.5l-.94 2.06-2.06.94zm10 10l.94 2.06.94-2.06 2.06-.94-2.06-.94-.94-2.06-.94 2.06-2.06.94z\"/><path d=\"M17.41 7.96l-1.37-1.37c-.4-.4-.92-.59-1.43-.59-.52 0-1.04.2-1.43.59L10.3 9.45l-7.72 7.72c-.78.78-.78 2.05 0 2.83L4 21.41c.39.39.9.59 1.41.59.51 0 1.02-.2 1.41-.59l7.78-7.78 2.81-2.81c.8-.78.8-2.07 0-2.86zM5.41 20L4 18.59l7.72-7.72 1.47 1.35L5.41 20z\"/>\n",
              "  </svg>\n",
              "      </button>\n",
              "      \n",
              "  <style>\n",
              "    .colab-df-container {\n",
              "      display:flex;\n",
              "      flex-wrap:wrap;\n",
              "      gap: 12px;\n",
              "    }\n",
              "\n",
              "    .colab-df-convert {\n",
              "      background-color: #E8F0FE;\n",
              "      border: none;\n",
              "      border-radius: 50%;\n",
              "      cursor: pointer;\n",
              "      display: none;\n",
              "      fill: #1967D2;\n",
              "      height: 32px;\n",
              "      padding: 0 0 0 0;\n",
              "      width: 32px;\n",
              "    }\n",
              "\n",
              "    .colab-df-convert:hover {\n",
              "      background-color: #E2EBFA;\n",
              "      box-shadow: 0px 1px 2px rgba(60, 64, 67, 0.3), 0px 1px 3px 1px rgba(60, 64, 67, 0.15);\n",
              "      fill: #174EA6;\n",
              "    }\n",
              "\n",
              "    [theme=dark] .colab-df-convert {\n",
              "      background-color: #3B4455;\n",
              "      fill: #D2E3FC;\n",
              "    }\n",
              "\n",
              "    [theme=dark] .colab-df-convert:hover {\n",
              "      background-color: #434B5C;\n",
              "      box-shadow: 0px 1px 3px 1px rgba(0, 0, 0, 0.15);\n",
              "      filter: drop-shadow(0px 1px 2px rgba(0, 0, 0, 0.3));\n",
              "      fill: #FFFFFF;\n",
              "    }\n",
              "  </style>\n",
              "\n",
              "      <script>\n",
              "        const buttonEl =\n",
              "          document.querySelector('#df-4934bb9f-dd61-452f-9c53-b825bef8a79c button.colab-df-convert');\n",
              "        buttonEl.style.display =\n",
              "          google.colab.kernel.accessAllowed ? 'block' : 'none';\n",
              "\n",
              "        async function convertToInteractive(key) {\n",
              "          const element = document.querySelector('#df-4934bb9f-dd61-452f-9c53-b825bef8a79c');\n",
              "          const dataTable =\n",
              "            await google.colab.kernel.invokeFunction('convertToInteractive',\n",
              "                                                     [key], {});\n",
              "          if (!dataTable) return;\n",
              "\n",
              "          const docLinkHtml = 'Like what you see? Visit the ' +\n",
              "            '<a target=\"_blank\" href=https://colab.research.google.com/notebooks/data_table.ipynb>data table notebook</a>'\n",
              "            + ' to learn more about interactive tables.';\n",
              "          element.innerHTML = '';\n",
              "          dataTable['output_type'] = 'display_data';\n",
              "          await google.colab.output.renderOutput(dataTable, element);\n",
              "          const docLink = document.createElement('div');\n",
              "          docLink.innerHTML = docLinkHtml;\n",
              "          element.appendChild(docLink);\n",
              "        }\n",
              "      </script>\n",
              "    </div>\n",
              "  </div>\n",
              "  "
            ],
            "text/plain": [
              "              Valor\n",
              "count  97586.000000\n",
              "mean       5.384929\n",
              "std        0.715136\n",
              "min        3.097000\n",
              "25%        4.990000\n",
              "50%        5.550000\n",
              "75%        5.899000\n",
              "max        7.097000"
            ]
          },
          "metadata": {},
          "execution_count": 234
        }
      ]
    },
    {
      "cell_type": "markdown",
      "source": [
        "## **Quanto ao resumo das estatísticas, das variáveis numéricas do dataset, podemos verificar que:**\n",
        "\n",
        "* ksdjkfsdjkfl\n",
        "* kdsldjsklf"
      ],
      "metadata": {
        "id": "zZaeDeCEmaSu"
      }
    },
    {
      "cell_type": "markdown",
      "source": [
        "### **4.6 Correlação dos Dados**\n",
        "\n",
        "verificar a possibilidade de fazer correlação "
      ],
      "metadata": {
        "id": "_GUwWFEgoD6k"
      }
    },
    {
      "cell_type": "markdown",
      "metadata": {
        "id": "FkSq5jaZdARL"
      },
      "source": [
        "## **5. Análise exploratória** \n",
        "\n",
        "Problemas Investigados acerca das questões propostas:\n"
      ]
    },
    {
      "cell_type": "markdown",
      "metadata": {
        "id": "9auJILNuSQUH"
      },
      "source": [
        "#### ***01: Brunna***"
      ]
    },
    {
      "cell_type": "markdown",
      "metadata": {
        "id": "ssx5RBswSUvi"
      },
      "source": [
        "##### 1) Como se comportaram o preço dos combustíveis durante os dois meses citados? Os valores do etanol e da gasolina tiveram uma tendência de queda ou diminuição?"
      ]
    },
    {
      "cell_type": "code",
      "source": [
        "etanol = df.query('Produto == \"ETANOL\"')\n",
        "gasolina = df.query('Produto == \"GASOLINA\"')\n",
        "\n",
        "evolucao_precos_etanol = etanol.sort_values(['Data']).groupby('Data')['Valor'].mean()\n",
        "evolucao_precos_gasolina = gasolina.sort_values(['Data']).groupby('Data')['Valor'].mean()"
      ],
      "metadata": {
        "id": "hugZejEL4-3r"
      },
      "execution_count": 235,
      "outputs": []
    },
    {
      "cell_type": "code",
      "source": [
        "fig, ax = plt.subplots(figsize=(18, 6))\n",
        "\n",
        "# rotacionar das datas\n",
        "fig.autofmt_xdate()\n",
        "\n",
        "plt.grid(True)\n",
        "\n",
        "# Adiconando títulos\n",
        "plt.title(\"Evolução dos valores de combustíveis nos meses de junho e julho de 2021\", loc='left', fontsize=16, fontweight=0, color='darkslategray')\n",
        "plt.xlabel(\"Data\")\n",
        "plt.ylabel(\"Valor\")\n",
        "\n",
        "# Mostrando a evolução\n",
        "plt.plot(evolucao_precos_etanol)\n",
        "plt.plot(evolucao_precos_gasolina)\n",
        "\n",
        "#Adicionando legenda\n",
        "legend = plt.legend(['ETANOL','GASOLINA'], title = \"Produto\", title_fontsize = 20)\n",
        "legend._legend_box.sep = 18"
      ],
      "metadata": {
        "id": "G3bqTYnVpYhk",
        "colab": {
          "base_uri": "https://localhost:8080/",
          "height": 463
        },
        "outputId": "99e7e576-d66a-4a94-84a2-c068f20c4ac5"
      },
      "execution_count": 236,
      "outputs": [
        {
          "output_type": "display_data",
          "data": {
            "image/png": "[encoded data removed]",
            "text/plain": [
              "<Figure size 1296x432 with 1 Axes>"
            ]
          },
          "metadata": {}
        }
      ]
    },
    {
      "cell_type": "code",
      "source": [
        "df.groupby(['Data','Produto'])['Valor'].describe()"
      ],
      "metadata": {
        "id": "fAUbVe6r_5OU",
        "colab": {
          "base_uri": "https://localhost:8080/",
          "height": 455
        },
        "outputId": "5dcd1930-3933-45ae-b8e1-d17395fb339a"
      },
      "execution_count": 237,
      "outputs": [
        {
          "output_type": "execute_result",
          "data": {
            "text/html": [
              "\n",
              "  <div id=\"df-ab61eadb-169e-4581-acd0-88f91b4507c5\">\n",
              "    <div class=\"colab-df-container\">\n",
              "      <div>\n",
              "<style scoped>\n",
              "    .dataframe tbody tr th:only-of-type {\n",
              "        vertical-align: middle;\n",
              "    }\n",
              "\n",
              "    .dataframe tbody tr th {\n",
              "        vertical-align: top;\n",
              "    }\n",
              "\n",
              "    .dataframe thead th {\n",
              "        text-align: right;\n",
              "    }\n",
              "</style>\n",
              "<table border=\"1\" class=\"dataframe\">\n",
              "  <thead>\n",
              "    <tr style=\"text-align: right;\">\n",
              "      <th></th>\n",
              "      <th></th>\n",
              "      <th>count</th>\n",
              "      <th>mean</th>\n",
              "      <th>std</th>\n",
              "      <th>min</th>\n",
              "      <th>25%</th>\n",
              "      <th>50%</th>\n",
              "      <th>75%</th>\n",
              "      <th>max</th>\n",
              "    </tr>\n",
              "    <tr>\n",
              "      <th>Data</th>\n",
              "      <th>Produto</th>\n",
              "      <th></th>\n",
              "      <th></th>\n",
              "      <th></th>\n",
              "      <th></th>\n",
              "      <th></th>\n",
              "      <th></th>\n",
              "      <th></th>\n",
              "      <th></th>\n",
              "    </tr>\n",
              "  </thead>\n",
              "  <tbody>\n",
              "    <tr>\n",
              "      <th rowspan=\"2\" valign=\"top\">2021-06-01</th>\n",
              "      <th>ETANOL</th>\n",
              "      <td>884.0</td>\n",
              "      <td>4.517171</td>\n",
              "      <td>0.497670</td>\n",
              "      <td>3.799</td>\n",
              "      <td>4.1490</td>\n",
              "      <td>4.379</td>\n",
              "      <td>4.86100</td>\n",
              "      <td>6.100</td>\n",
              "    </tr>\n",
              "    <tr>\n",
              "      <th>GASOLINA</th>\n",
              "      <td>1731.0</td>\n",
              "      <td>5.693404</td>\n",
              "      <td>0.339301</td>\n",
              "      <td>4.870</td>\n",
              "      <td>5.4490</td>\n",
              "      <td>5.650</td>\n",
              "      <td>5.94800</td>\n",
              "      <td>6.890</td>\n",
              "    </tr>\n",
              "    <tr>\n",
              "      <th rowspan=\"2\" valign=\"top\">2021-06-02</th>\n",
              "      <th>ETANOL</th>\n",
              "      <td>1009.0</td>\n",
              "      <td>4.496550</td>\n",
              "      <td>0.496872</td>\n",
              "      <td>3.549</td>\n",
              "      <td>4.0990</td>\n",
              "      <td>4.299</td>\n",
              "      <td>4.85000</td>\n",
              "      <td>6.890</td>\n",
              "    </tr>\n",
              "    <tr>\n",
              "      <th>GASOLINA</th>\n",
              "      <td>1932.0</td>\n",
              "      <td>5.700649</td>\n",
              "      <td>0.352055</td>\n",
              "      <td>4.398</td>\n",
              "      <td>5.4490</td>\n",
              "      <td>5.690</td>\n",
              "      <td>5.95900</td>\n",
              "      <td>6.999</td>\n",
              "    </tr>\n",
              "    <tr>\n",
              "      <th>2021-06-03</th>\n",
              "      <th>ETANOL</th>\n",
              "      <td>282.0</td>\n",
              "      <td>4.727348</td>\n",
              "      <td>0.554527</td>\n",
              "      <td>3.699</td>\n",
              "      <td>4.1990</td>\n",
              "      <td>4.799</td>\n",
              "      <td>4.99900</td>\n",
              "      <td>5.999</td>\n",
              "    </tr>\n",
              "    <tr>\n",
              "      <th>...</th>\n",
              "      <th>...</th>\n",
              "      <td>...</td>\n",
              "      <td>...</td>\n",
              "      <td>...</td>\n",
              "      <td>...</td>\n",
              "      <td>...</td>\n",
              "      <td>...</td>\n",
              "      <td>...</td>\n",
              "      <td>...</td>\n",
              "    </tr>\n",
              "    <tr>\n",
              "      <th>2021-07-28</th>\n",
              "      <th>GASOLINA</th>\n",
              "      <td>1882.0</td>\n",
              "      <td>5.898512</td>\n",
              "      <td>0.359835</td>\n",
              "      <td>4.899</td>\n",
              "      <td>5.5990</td>\n",
              "      <td>5.898</td>\n",
              "      <td>6.18000</td>\n",
              "      <td>6.999</td>\n",
              "    </tr>\n",
              "    <tr>\n",
              "      <th rowspan=\"2\" valign=\"top\">2021-07-29</th>\n",
              "      <th>ETANOL</th>\n",
              "      <td>418.0</td>\n",
              "      <td>4.554981</td>\n",
              "      <td>0.592926</td>\n",
              "      <td>3.679</td>\n",
              "      <td>4.0815</td>\n",
              "      <td>4.399</td>\n",
              "      <td>4.95000</td>\n",
              "      <td>6.797</td>\n",
              "    </tr>\n",
              "    <tr>\n",
              "      <th>GASOLINA</th>\n",
              "      <td>887.0</td>\n",
              "      <td>5.923453</td>\n",
              "      <td>0.396760</td>\n",
              "      <td>5.079</td>\n",
              "      <td>5.5990</td>\n",
              "      <td>5.959</td>\n",
              "      <td>6.19900</td>\n",
              "      <td>7.097</td>\n",
              "    </tr>\n",
              "    <tr>\n",
              "      <th rowspan=\"2\" valign=\"top\">2021-07-30</th>\n",
              "      <th>ETANOL</th>\n",
              "      <td>35.0</td>\n",
              "      <td>4.404714</td>\n",
              "      <td>0.403432</td>\n",
              "      <td>3.980</td>\n",
              "      <td>4.0945</td>\n",
              "      <td>4.199</td>\n",
              "      <td>4.92900</td>\n",
              "      <td>5.190</td>\n",
              "    </tr>\n",
              "    <tr>\n",
              "      <th>GASOLINA</th>\n",
              "      <td>70.0</td>\n",
              "      <td>5.744300</td>\n",
              "      <td>0.325821</td>\n",
              "      <td>5.349</td>\n",
              "      <td>5.4825</td>\n",
              "      <td>5.623</td>\n",
              "      <td>6.07975</td>\n",
              "      <td>6.392</td>\n",
              "    </tr>\n",
              "  </tbody>\n",
              "</table>\n",
              "<p>102 rows × 8 columns</p>\n",
              "</div>\n",
              "      <button class=\"colab-df-convert\" onclick=\"convertToInteractive('df-ab61eadb-169e-4581-acd0-88f91b4507c5')\"\n",
              "              title=\"Convert this dataframe to an interactive table.\"\n",
              "              style=\"display:none;\">\n",
              "        \n",
              "  <svg xmlns=\"http://www.w3.org/2000/svg\" height=\"24px\"viewBox=\"0 0 24 24\"\n",
              "       width=\"24px\">\n",
              "    <path d=\"M0 0h24v24H0V0z\" fill=\"none\"/>\n",
              "    <path d=\"M18.56 5.44l.94 2.06.94-2.06 2.06-.94-2.06-.94-.94-2.06-.94 2.06-2.06.94zm-11 1L8.5 8.5l.94-2.06 2.06-.94-2.06-.94L8.5 2.5l-.94 2.06-2.06.94zm10 10l.94 2.06.94-2.06 2.06-.94-2.06-.94-.94-2.06-.94 2.06-2.06.94z\"/><path d=\"M17.41 7.96l-1.37-1.37c-.4-.4-.92-.59-1.43-.59-.52 0-1.04.2-1.43.59L10.3 9.45l-7.72 7.72c-.78.78-.78 2.05 0 2.83L4 21.41c.39.39.9.59 1.41.59.51 0 1.02-.2 1.41-.59l7.78-7.78 2.81-2.81c.8-.78.8-2.07 0-2.86zM5.41 20L4 18.59l7.72-7.72 1.47 1.35L5.41 20z\"/>\n",
              "  </svg>\n",
              "      </button>\n",
              "      \n",
              "  <style>\n",
              "    .colab-df-container {\n",
              "      display:flex;\n",
              "      flex-wrap:wrap;\n",
              "      gap: 12px;\n",
              "    }\n",
              "\n",
              "    .colab-df-convert {\n",
              "      background-color: #E8F0FE;\n",
              "      border: none;\n",
              "      border-radius: 50%;\n",
              "      cursor: pointer;\n",
              "      display: none;\n",
              "      fill: #1967D2;\n",
              "      height: 32px;\n",
              "      padding: 0 0 0 0;\n",
              "      width: 32px;\n",
              "    }\n",
              "\n",
              "    .colab-df-convert:hover {\n",
              "      background-color: #E2EBFA;\n",
              "      box-shadow: 0px 1px 2px rgba(60, 64, 67, 0.3), 0px 1px 3px 1px rgba(60, 64, 67, 0.15);\n",
              "      fill: #174EA6;\n",
              "    }\n",
              "\n",
              "    [theme=dark] .colab-df-convert {\n",
              "      background-color: #3B4455;\n",
              "      fill: #D2E3FC;\n",
              "    }\n",
              "\n",
              "    [theme=dark] .colab-df-convert:hover {\n",
              "      background-color: #434B5C;\n",
              "      box-shadow: 0px 1px 3px 1px rgba(0, 0, 0, 0.15);\n",
              "      filter: drop-shadow(0px 1px 2px rgba(0, 0, 0, 0.3));\n",
              "      fill: #FFFFFF;\n",
              "    }\n",
              "  </style>\n",
              "\n",
              "      <script>\n",
              "        const buttonEl =\n",
              "          document.querySelector('#df-ab61eadb-169e-4581-acd0-88f91b4507c5 button.colab-df-convert');\n",
              "        buttonEl.style.display =\n",
              "          google.colab.kernel.accessAllowed ? 'block' : 'none';\n",
              "\n",
              "        async function convertToInteractive(key) {\n",
              "          const element = document.querySelector('#df-ab61eadb-169e-4581-acd0-88f91b4507c5');\n",
              "          const dataTable =\n",
              "            await google.colab.kernel.invokeFunction('convertToInteractive',\n",
              "                                                     [key], {});\n",
              "          if (!dataTable) return;\n",
              "\n",
              "          const docLinkHtml = 'Like what you see? Visit the ' +\n",
              "            '<a target=\"_blank\" href=https://colab.research.google.com/notebooks/data_table.ipynb>data table notebook</a>'\n",
              "            + ' to learn more about interactive tables.';\n",
              "          element.innerHTML = '';\n",
              "          dataTable['output_type'] = 'display_data';\n",
              "          await google.colab.output.renderOutput(dataTable, element);\n",
              "          const docLink = document.createElement('div');\n",
              "          docLink.innerHTML = docLinkHtml;\n",
              "          element.appendChild(docLink);\n",
              "        }\n",
              "      </script>\n",
              "    </div>\n",
              "  </div>\n",
              "  "
            ],
            "text/plain": [
              "                      count      mean       std  ...    50%      75%    max\n",
              "Data       Produto                               ...                       \n",
              "2021-06-01 ETANOL     884.0  4.517171  0.497670  ...  4.379  4.86100  6.100\n",
              "           GASOLINA  1731.0  5.693404  0.339301  ...  5.650  5.94800  6.890\n",
              "2021-06-02 ETANOL    1009.0  4.496550  0.496872  ...  4.299  4.85000  6.890\n",
              "           GASOLINA  1932.0  5.700649  0.352055  ...  5.690  5.95900  6.999\n",
              "2021-06-03 ETANOL     282.0  4.727348  0.554527  ...  4.799  4.99900  5.999\n",
              "...                     ...       ...       ...  ...    ...      ...    ...\n",
              "2021-07-28 GASOLINA  1882.0  5.898512  0.359835  ...  5.898  6.18000  6.999\n",
              "2021-07-29 ETANOL     418.0  4.554981  0.592926  ...  4.399  4.95000  6.797\n",
              "           GASOLINA   887.0  5.923453  0.396760  ...  5.959  6.19900  7.097\n",
              "2021-07-30 ETANOL      35.0  4.404714  0.403432  ...  4.199  4.92900  5.190\n",
              "           GASOLINA    70.0  5.744300  0.325821  ...  5.623  6.07975  6.392\n",
              "\n",
              "[102 rows x 8 columns]"
            ]
          },
          "metadata": {},
          "execution_count": 237
        }
      ]
    },
    {
      "cell_type": "code",
      "source": [
        "df.groupby(df['Data'].dt.month).mean()"
      ],
      "metadata": {
        "id": "fGDlYcvPLdIX",
        "colab": {
          "base_uri": "https://localhost:8080/",
          "height": 143
        },
        "outputId": "c142a6fb-77a3-4201-d0d2-b800ae74f380"
      },
      "execution_count": 238,
      "outputs": [
        {
          "output_type": "execute_result",
          "data": {
            "text/html": [
              "\n",
              "  <div id=\"df-c1578df9-7223-4468-b4db-10aaa0a23247\">\n",
              "    <div class=\"colab-df-container\">\n",
              "      <div>\n",
              "<style scoped>\n",
              "    .dataframe tbody tr th:only-of-type {\n",
              "        vertical-align: middle;\n",
              "    }\n",
              "\n",
              "    .dataframe tbody tr th {\n",
              "        vertical-align: top;\n",
              "    }\n",
              "\n",
              "    .dataframe thead th {\n",
              "        text-align: right;\n",
              "    }\n",
              "</style>\n",
              "<table border=\"1\" class=\"dataframe\">\n",
              "  <thead>\n",
              "    <tr style=\"text-align: right;\">\n",
              "      <th></th>\n",
              "      <th>Valor</th>\n",
              "    </tr>\n",
              "    <tr>\n",
              "      <th>Data</th>\n",
              "      <th></th>\n",
              "    </tr>\n",
              "  </thead>\n",
              "  <tbody>\n",
              "    <tr>\n",
              "      <th>6</th>\n",
              "      <td>5.339212</td>\n",
              "    </tr>\n",
              "    <tr>\n",
              "      <th>7</th>\n",
              "      <td>5.432450</td>\n",
              "    </tr>\n",
              "  </tbody>\n",
              "</table>\n",
              "</div>\n",
              "      <button class=\"colab-df-convert\" onclick=\"convertToInteractive('df-c1578df9-7223-4468-b4db-10aaa0a23247')\"\n",
              "              title=\"Convert this dataframe to an interactive table.\"\n",
              "              style=\"display:none;\">\n",
              "        \n",
              "  <svg xmlns=\"http://www.w3.org/2000/svg\" height=\"24px\"viewBox=\"0 0 24 24\"\n",
              "       width=\"24px\">\n",
              "    <path d=\"M0 0h24v24H0V0z\" fill=\"none\"/>\n",
              "    <path d=\"M18.56 5.44l.94 2.06.94-2.06 2.06-.94-2.06-.94-.94-2.06-.94 2.06-2.06.94zm-11 1L8.5 8.5l.94-2.06 2.06-.94-2.06-.94L8.5 2.5l-.94 2.06-2.06.94zm10 10l.94 2.06.94-2.06 2.06-.94-2.06-.94-.94-2.06-.94 2.06-2.06.94z\"/><path d=\"M17.41 7.96l-1.37-1.37c-.4-.4-.92-.59-1.43-.59-.52 0-1.04.2-1.43.59L10.3 9.45l-7.72 7.72c-.78.78-.78 2.05 0 2.83L4 21.41c.39.39.9.59 1.41.59.51 0 1.02-.2 1.41-.59l7.78-7.78 2.81-2.81c.8-.78.8-2.07 0-2.86zM5.41 20L4 18.59l7.72-7.72 1.47 1.35L5.41 20z\"/>\n",
              "  </svg>\n",
              "      </button>\n",
              "      \n",
              "  <style>\n",
              "    .colab-df-container {\n",
              "      display:flex;\n",
              "      flex-wrap:wrap;\n",
              "      gap: 12px;\n",
              "    }\n",
              "\n",
              "    .colab-df-convert {\n",
              "      background-color: #E8F0FE;\n",
              "      border: none;\n",
              "      border-radius: 50%;\n",
              "      cursor: pointer;\n",
              "      display: none;\n",
              "      fill: #1967D2;\n",
              "      height: 32px;\n",
              "      padding: 0 0 0 0;\n",
              "      width: 32px;\n",
              "    }\n",
              "\n",
              "    .colab-df-convert:hover {\n",
              "      background-color: #E2EBFA;\n",
              "      box-shadow: 0px 1px 2px rgba(60, 64, 67, 0.3), 0px 1px 3px 1px rgba(60, 64, 67, 0.15);\n",
              "      fill: #174EA6;\n",
              "    }\n",
              "\n",
              "    [theme=dark] .colab-df-convert {\n",
              "      background-color: #3B4455;\n",
              "      fill: #D2E3FC;\n",
              "    }\n",
              "\n",
              "    [theme=dark] .colab-df-convert:hover {\n",
              "      background-color: #434B5C;\n",
              "      box-shadow: 0px 1px 3px 1px rgba(0, 0, 0, 0.15);\n",
              "      filter: drop-shadow(0px 1px 2px rgba(0, 0, 0, 0.3));\n",
              "      fill: #FFFFFF;\n",
              "    }\n",
              "  </style>\n",
              "\n",
              "      <script>\n",
              "        const buttonEl =\n",
              "          document.querySelector('#df-c1578df9-7223-4468-b4db-10aaa0a23247 button.colab-df-convert');\n",
              "        buttonEl.style.display =\n",
              "          google.colab.kernel.accessAllowed ? 'block' : 'none';\n",
              "\n",
              "        async function convertToInteractive(key) {\n",
              "          const element = document.querySelector('#df-c1578df9-7223-4468-b4db-10aaa0a23247');\n",
              "          const dataTable =\n",
              "            await google.colab.kernel.invokeFunction('convertToInteractive',\n",
              "                                                     [key], {});\n",
              "          if (!dataTable) return;\n",
              "\n",
              "          const docLinkHtml = 'Like what you see? Visit the ' +\n",
              "            '<a target=\"_blank\" href=https://colab.research.google.com/notebooks/data_table.ipynb>data table notebook</a>'\n",
              "            + ' to learn more about interactive tables.';\n",
              "          element.innerHTML = '';\n",
              "          dataTable['output_type'] = 'display_data';\n",
              "          await google.colab.output.renderOutput(dataTable, element);\n",
              "          const docLink = document.createElement('div');\n",
              "          docLink.innerHTML = docLinkHtml;\n",
              "          element.appendChild(docLink);\n",
              "        }\n",
              "      </script>\n",
              "    </div>\n",
              "  </div>\n",
              "  "
            ],
            "text/plain": [
              "         Valor\n",
              "Data          \n",
              "6     5.339212\n",
              "7     5.432450"
            ]
          },
          "metadata": {},
          "execution_count": 238
        }
      ]
    },
    {
      "cell_type": "markdown",
      "source": [
        "**Quanto às questões ligadas à evolução dos valores dos combustíveis, podemos verificar que:**\n",
        "\n",
        "* A **gasolina** começou o mês de junho, com o valor médio de **5,693 reais**  e fechou o mês  de julho com uma média de **5,744 reais**. Apesar das oscilações durante o período o valor manteve-se estável com uma alta de apenas 1%.\n",
        "\n",
        "* No início de junho o **etanol** estava em **4,517 reais** o litro. E fechou o mês de julho com uma média de **4,404 reais** apresentando uma queda de 2,5%.\n",
        "\n",
        "* De maneira geral os combustíveis tiveram em junto teve seu preço médio em **5,339 reais** e em julho em **5,432 reais**, tendo um aumento de **1,74 %**.\n",
        "\n",
        "* Comparando os dois combustíveis verificamos que o etanol sofre maior oscilação de valores do que a gasolina que teve seu valor mais estável."
      ],
      "metadata": {
        "id": "EDDrkRuY9fAk"
      }
    },
    {
      "cell_type": "markdown",
      "metadata": {
        "id": "d_ek4gR5XP6D"
      },
      "source": [
        "##### 2) Qual o preço médio da gasolina e do etanol nesses dois meses?"
      ]
    },
    {
      "cell_type": "code",
      "source": [
        "df.groupby('Produto')['Valor'].describe()"
      ],
      "metadata": {
        "id": "zNiOtUwfDyLF",
        "colab": {
          "base_uri": "https://localhost:8080/",
          "height": 143
        },
        "outputId": "f40c2768-6ec5-4b96-bc00-62d801fbf4a8"
      },
      "execution_count": 239,
      "outputs": [
        {
          "output_type": "execute_result",
          "data": {
            "text/html": [
              "\n",
              "  <div id=\"df-4a05521c-43da-41b9-9606-61570dbdff28\">\n",
              "    <div class=\"colab-df-container\">\n",
              "      <div>\n",
              "<style scoped>\n",
              "    .dataframe tbody tr th:only-of-type {\n",
              "        vertical-align: middle;\n",
              "    }\n",
              "\n",
              "    .dataframe tbody tr th {\n",
              "        vertical-align: top;\n",
              "    }\n",
              "\n",
              "    .dataframe thead th {\n",
              "        text-align: right;\n",
              "    }\n",
              "</style>\n",
              "<table border=\"1\" class=\"dataframe\">\n",
              "  <thead>\n",
              "    <tr style=\"text-align: right;\">\n",
              "      <th></th>\n",
              "      <th>count</th>\n",
              "      <th>mean</th>\n",
              "      <th>std</th>\n",
              "      <th>min</th>\n",
              "      <th>25%</th>\n",
              "      <th>50%</th>\n",
              "      <th>75%</th>\n",
              "      <th>max</th>\n",
              "    </tr>\n",
              "    <tr>\n",
              "      <th>Produto</th>\n",
              "      <th></th>\n",
              "      <th></th>\n",
              "      <th></th>\n",
              "      <th></th>\n",
              "      <th></th>\n",
              "      <th></th>\n",
              "      <th></th>\n",
              "      <th></th>\n",
              "    </tr>\n",
              "  </thead>\n",
              "  <tbody>\n",
              "    <tr>\n",
              "      <th>ETANOL</th>\n",
              "      <td>33096.0</td>\n",
              "      <td>4.581825</td>\n",
              "      <td>0.533944</td>\n",
              "      <td>3.097</td>\n",
              "      <td>4.159</td>\n",
              "      <td>4.399</td>\n",
              "      <td>4.997</td>\n",
              "      <td>6.999</td>\n",
              "    </tr>\n",
              "    <tr>\n",
              "      <th>GASOLINA</th>\n",
              "      <td>64490.0</td>\n",
              "      <td>5.797078</td>\n",
              "      <td>0.355950</td>\n",
              "      <td>4.199</td>\n",
              "      <td>5.520</td>\n",
              "      <td>5.790</td>\n",
              "      <td>5.999</td>\n",
              "      <td>7.097</td>\n",
              "    </tr>\n",
              "  </tbody>\n",
              "</table>\n",
              "</div>\n",
              "      <button class=\"colab-df-convert\" onclick=\"convertToInteractive('df-4a05521c-43da-41b9-9606-61570dbdff28')\"\n",
              "              title=\"Convert this dataframe to an interactive table.\"\n",
              "              style=\"display:none;\">\n",
              "        \n",
              "  <svg xmlns=\"http://www.w3.org/2000/svg\" height=\"24px\"viewBox=\"0 0 24 24\"\n",
              "       width=\"24px\">\n",
              "    <path d=\"M0 0h24v24H0V0z\" fill=\"none\"/>\n",
              "    <path d=\"M18.56 5.44l.94 2.06.94-2.06 2.06-.94-2.06-.94-.94-2.06-.94 2.06-2.06.94zm-11 1L8.5 8.5l.94-2.06 2.06-.94-2.06-.94L8.5 2.5l-.94 2.06-2.06.94zm10 10l.94 2.06.94-2.06 2.06-.94-2.06-.94-.94-2.06-.94 2.06-2.06.94z\"/><path d=\"M17.41 7.96l-1.37-1.37c-.4-.4-.92-.59-1.43-.59-.52 0-1.04.2-1.43.59L10.3 9.45l-7.72 7.72c-.78.78-.78 2.05 0 2.83L4 21.41c.39.39.9.59 1.41.59.51 0 1.02-.2 1.41-.59l7.78-7.78 2.81-2.81c.8-.78.8-2.07 0-2.86zM5.41 20L4 18.59l7.72-7.72 1.47 1.35L5.41 20z\"/>\n",
              "  </svg>\n",
              "      </button>\n",
              "      \n",
              "  <style>\n",
              "    .colab-df-container {\n",
              "      display:flex;\n",
              "      flex-wrap:wrap;\n",
              "      gap: 12px;\n",
              "    }\n",
              "\n",
              "    .colab-df-convert {\n",
              "      background-color: #E8F0FE;\n",
              "      border: none;\n",
              "      border-radius: 50%;\n",
              "      cursor: pointer;\n",
              "      display: none;\n",
              "      fill: #1967D2;\n",
              "      height: 32px;\n",
              "      padding: 0 0 0 0;\n",
              "      width: 32px;\n",
              "    }\n",
              "\n",
              "    .colab-df-convert:hover {\n",
              "      background-color: #E2EBFA;\n",
              "      box-shadow: 0px 1px 2px rgba(60, 64, 67, 0.3), 0px 1px 3px 1px rgba(60, 64, 67, 0.15);\n",
              "      fill: #174EA6;\n",
              "    }\n",
              "\n",
              "    [theme=dark] .colab-df-convert {\n",
              "      background-color: #3B4455;\n",
              "      fill: #D2E3FC;\n",
              "    }\n",
              "\n",
              "    [theme=dark] .colab-df-convert:hover {\n",
              "      background-color: #434B5C;\n",
              "      box-shadow: 0px 1px 3px 1px rgba(0, 0, 0, 0.15);\n",
              "      filter: drop-shadow(0px 1px 2px rgba(0, 0, 0, 0.3));\n",
              "      fill: #FFFFFF;\n",
              "    }\n",
              "  </style>\n",
              "\n",
              "      <script>\n",
              "        const buttonEl =\n",
              "          document.querySelector('#df-4a05521c-43da-41b9-9606-61570dbdff28 button.colab-df-convert');\n",
              "        buttonEl.style.display =\n",
              "          google.colab.kernel.accessAllowed ? 'block' : 'none';\n",
              "\n",
              "        async function convertToInteractive(key) {\n",
              "          const element = document.querySelector('#df-4a05521c-43da-41b9-9606-61570dbdff28');\n",
              "          const dataTable =\n",
              "            await google.colab.kernel.invokeFunction('convertToInteractive',\n",
              "                                                     [key], {});\n",
              "          if (!dataTable) return;\n",
              "\n",
              "          const docLinkHtml = 'Like what you see? Visit the ' +\n",
              "            '<a target=\"_blank\" href=https://colab.research.google.com/notebooks/data_table.ipynb>data table notebook</a>'\n",
              "            + ' to learn more about interactive tables.';\n",
              "          element.innerHTML = '';\n",
              "          dataTable['output_type'] = 'display_data';\n",
              "          await google.colab.output.renderOutput(dataTable, element);\n",
              "          const docLink = document.createElement('div');\n",
              "          docLink.innerHTML = docLinkHtml;\n",
              "          element.appendChild(docLink);\n",
              "        }\n",
              "      </script>\n",
              "    </div>\n",
              "  </div>\n",
              "  "
            ],
            "text/plain": [
              "            count      mean       std    min    25%    50%    75%    max\n",
              "Produto                                                                 \n",
              "ETANOL    33096.0  4.581825  0.533944  3.097  4.159  4.399  4.997  6.999\n",
              "GASOLINA  64490.0  5.797078  0.355950  4.199  5.520  5.790  5.999  7.097"
            ]
          },
          "metadata": {},
          "execution_count": 239
        }
      ]
    },
    {
      "cell_type": "code",
      "source": [
        "df.boxplot(by=[\"Produto\"], figsize=(16,6), fontsize=12, vert=False)"
      ],
      "metadata": {
        "id": "21_FdFxqNwLs",
        "colab": {
          "base_uri": "https://localhost:8080/",
          "height": 512
        },
        "outputId": "2af13dfd-9e81-4e76-c0db-776876a6b372"
      },
      "execution_count": 240,
      "outputs": [
        {
          "output_type": "stream",
          "name": "stderr",
          "text": [
            "/usr/local/lib/python3.7/dist-packages/matplotlib/cbook/__init__.py:1376: VisibleDeprecationWarning: Creating an ndarray from ragged nested sequences (which is a list-or-tuple of lists-or-tuples-or ndarrays with different lengths or shapes) is deprecated. If you meant to do this, you must specify 'dtype=object' when creating the ndarray.\n",
            "  X = np.atleast_1d(X.T if isinstance(X, np.ndarray) else np.asarray(X))\n"
          ]
        },
        {
          "output_type": "execute_result",
          "data": {
            "text/plain": [
              "<matplotlib.axes._subplots.AxesSubplot at 0x7f93bf51aa10>"
            ]
          },
          "metadata": {},
          "execution_count": 240
        },
        {
          "output_type": "display_data",
          "data": {
            "image/png": "[encoded data removed]",
            "text/plain": [
              "<Figure size 1152x432 with 1 Axes>"
            ]
          },
          "metadata": {}
        }
      ]
    },
    {
      "cell_type": "markdown",
      "source": [
        "**Quanto às questões ligadas aos valores dos combustíveis, podemos verificar que:**\n",
        "\n",
        "* O valor médio do **etanol** nos meses de junho e julho de 2021 fica em torno de **4,581 reais**, com desvio padrão de **0,533**, mediana de **4,399 reais**, com valores máximos chegando a **6,999 reais**. Cabendo ressaltar que 75% dos preços estão abaixo do valor de **4,997** reais.\n",
        "\n",
        "* O valor médio da **gasolina** nos meses de junho e julho de 2021 fica em torno de **5,797 reais**, com desvio padrão de **0,355**, mediana de **5,790 reais**, com valores máximos chegando a **7,097 reais**. Cabendo ressaltar que 75% dos preços estão abaixo do valor de **5,999** reais.\n"
      ],
      "metadata": {
        "id": "nV74-NnDDU7E"
      }
    },
    {
      "cell_type": "markdown",
      "metadata": {
        "id": "YMu3e5LJSVc2"
      },
      "source": [
        "#### ***02: Gabriel***"
      ]
    },
    {
      "cell_type": "markdown",
      "source": [
        "#####3) Quais os 5 estados com o preço médio da gasolina e do etanol mais caros?"
      ],
      "metadata": {
        "id": "R7bC0Xroh3iS"
      }
    },
    {
      "cell_type": "markdown",
      "source": [
        "* **Localizando os preços médios da GASOLINA por Estado:**"
      ],
      "metadata": {
        "id": "k7ajlqX2h4if"
      }
    },
    {
      "cell_type": "code",
      "source": [
        "media_gasolina_x_estado=df.loc[df['Produto']=='GASOLINA']\n",
        "media_gasolina=media_gasolina_x_estado.groupby('Estado').Valor.mean()"
      ],
      "metadata": {
        "id": "0AENF6yBh68d"
      },
      "execution_count": 242,
      "outputs": []
    },
    {
      "cell_type": "markdown",
      "source": [
        "* **Ordenando os dados por valores(decrescentes) para indicação dos 5 (cinco) estados com preço médio de comercialização mais altos:**"
      ],
      "metadata": {
        "id": "vTjd8375h_18"
      }
    },
    {
      "cell_type": "code",
      "source": [
        "rank_gasolina = media_gasolina.sort_values(ascending=False).reset_index()[:5]"
      ],
      "metadata": {
        "id": "HO_JTXV5iG5L"
      },
      "execution_count": 243,
      "outputs": []
    },
    {
      "cell_type": "markdown",
      "source": [
        "* **Criando o gráfico de barras para visualização dos 5 (cinco) estados com os maiores preços médios de comercialização :**"
      ],
      "metadata": {
        "id": "_8BnHjkvlGED"
      }
    },
    {
      "cell_type": "code",
      "source": [
        "fig = plt.figure(figsize=(10,7))\n",
        "plt.title('Estados com maiores preços médio - Gasolina', fontsize=20)\n",
        "\n",
        "sns.set(font_scale=2)\n",
        "sns.barplot(y='Valor', x='Estado', data=rank_gasolina, palette='viridis');\n",
        "plt.ylabel('Preço médio (R$)')\n",
        "plt.xlabel('Estado')\n",
        "\n",
        "\n",
        "plt.tight_layout()"
      ],
      "metadata": {
        "colab": {
          "base_uri": "https://localhost:8080/",
          "height": 483
        },
        "id": "zaVc0_r5lxub",
        "outputId": "c64225d0-245e-42a9-a0fc-54c26bd3e7a1"
      },
      "execution_count": 244,
      "outputs": [
        {
          "output_type": "display_data",
          "data": {
            "image/png": "[encoded data removed]",
            "text/plain": [
              "<Figure size 720x504 with 1 Axes>"
            ]
          },
          "metadata": {}
        }
      ]
    },
    {
      "cell_type": "markdown",
      "source": [
        "* **Localizando os preços médios do ETANOL por Estado:**"
      ],
      "metadata": {
        "id": "VXI15Fp_iJSK"
      }
    },
    {
      "cell_type": "code",
      "source": [
        "media_etanol_x_estado=df.loc[df['Produto']=='ETANOL']\n",
        "media_etanol=media_etanol_x_estado.groupby('Estado').Valor.mean()"
      ],
      "metadata": {
        "id": "bUk5XAWTiLNQ"
      },
      "execution_count": 245,
      "outputs": []
    },
    {
      "cell_type": "markdown",
      "source": [
        "* **Ordenando os dados por valores (decrescentes) para indicação dos 5 primeiros:**"
      ],
      "metadata": {
        "id": "w6DsSNBTiRrK"
      }
    },
    {
      "cell_type": "code",
      "source": [
        "rank_etanol = media_etanol.sort_values(ascending=False).reset_index()[:5]\n"
      ],
      "metadata": {
        "id": "c46mPo1HiTUe"
      },
      "execution_count": 246,
      "outputs": []
    },
    {
      "cell_type": "markdown",
      "source": [
        "* **Criando o gráfico de barras para visualização dos 5 (cinco) estados com os maiores preços médios de comercialização :**"
      ],
      "metadata": {
        "id": "5dG69z72nfWV"
      }
    },
    {
      "cell_type": "code",
      "source": [
        "fig = plt.figure(figsize=(10,7))\n",
        "plt.title('Estados com maiores preços médio - Etanol', fontsize=20)\n",
        "\n",
        "sns.set(font_scale=2)\n",
        "sns.barplot(y='Valor', x='Estado', data=rank_etanol, palette='viridis');\n",
        "plt.ylabel('Preço médio (R$)')\n",
        "plt.xlabel('Estado')\n",
        "\n",
        "\n",
        "plt.tight_layout()"
      ],
      "metadata": {
        "colab": {
          "base_uri": "https://localhost:8080/",
          "height": 483
        },
        "id": "NlC8c43gnfqN",
        "outputId": "94d3cd09-a980-4b88-9662-d69f743204ac"
      },
      "execution_count": 247,
      "outputs": [
        {
          "output_type": "display_data",
          "data": {
            "image/png": "[encoded data removed]",
            "text/plain": [
              "<Figure size 720x504 with 1 Axes>"
            ]
          },
          "metadata": {}
        }
      ]
    },
    {
      "cell_type": "markdown",
      "source": [
        "**Quanto às questões ligadas aos valores médios de comercialização dos combustíveis, podemos verificar que:**\n",
        "\n",
        "* Para a gasolina, a distribuição dos estados que comercializam o produto com maior valor médio só não contempla a Região Centro-Oeste. Contudo, a predominância é na Região Nordeste (PI e RN).\n",
        "\n",
        "* Para o etanol, a distribuição dos estados que comercializam o produto com maior valor médio está nos extremos do país. Contudo, a predominância é na região norte (AC e AP e PA)."
      ],
      "metadata": {
        "id": "a9CEdF3qxnMR"
      }
    },
    {
      "cell_type": "markdown",
      "source": [
        "#####4) Qual o preço médio da gasolina e do etanol por estado?"
      ],
      "metadata": {
        "id": "YaGwJWw6iXdK"
      }
    },
    {
      "cell_type": "markdown",
      "source": [
        "* **Combustível x Estado: Cálculo do preço médio dos combustíveis por Estado:**"
      ],
      "metadata": {
        "id": "82Ao8Hr0ibeq"
      }
    },
    {
      "cell_type": "code",
      "source": [
        "media_estados = df.groupby(['Estado', 'Produto'])['Valor'].mean().reset_index()"
      ],
      "metadata": {
        "id": "s0-rlcAUl-oa"
      },
      "execution_count": 248,
      "outputs": []
    },
    {
      "cell_type": "code",
      "source": [
        ""
      ],
      "metadata": {
        "id": "mi89ffCbpOEN"
      },
      "execution_count": 248,
      "outputs": []
    },
    {
      "cell_type": "code",
      "source": [
        "fig = plt.figure(figsize=(30,10))\n",
        "plt.title('Preço médio da gasolina e do etanol no período', fontsize=30)\n",
        "\n",
        "sns.set(font_scale=2)\n",
        "sns.barplot(y='Valor', x='Estado', hue='Produto',  data=media_estados, palette='viridis');\n",
        "plt.ylabel('Valor médio')\n",
        "plt.xlabel('Estado')\n",
        "plt.legend(title=\"Produto\")\n",
        "\n",
        "plt.tight_layout()"
      ],
      "metadata": {
        "colab": {
          "base_uri": "https://localhost:8080/",
          "height": 595
        },
        "id": "NmePOdJfme0O",
        "outputId": "d496dd98-2482-4086-c9fd-a9c3be24e88e"
      },
      "execution_count": 249,
      "outputs": [
        {
          "output_type": "display_data",
          "data": {
            "image/png": "[encoded data removed]",
            "text/plain": [
              "<Figure size 2160x720 with 1 Axes>"
            ]
          },
          "metadata": {}
        }
      ]
    },
    {
      "cell_type": "markdown",
      "source": [
        "**Quanto às questões ligadas aos valores médios de comercialização dos combustíveis em todos os estados do território nacional, visulamente podemos verificar que:**\n",
        "\n",
        "* Em alguns casos, o valor médio de comercialização do etanol ultrapassa o da gasolina. Como é o caso entre Paraíba e o Rio Grande Do Sul e também o Amapá, indicidulamente, entre os dois combustíveis.\n",
        "\n"
      ],
      "metadata": {
        "id": "dK3Q8gvU2zz9"
      }
    },
    {
      "cell_type": "markdown",
      "metadata": {
        "id": "1H4gMAT8Scyz"
      },
      "source": [
        "#### ***03: Lucas (elaborado por Gabriel)***"
      ]
    },
    {
      "cell_type": "markdown",
      "metadata": {
        "id": "ss8CXlxOW7PV"
      },
      "source": [
        "#####5) Qual o município que possui o menor preço para a gasolina e para o etanol?"
      ]
    },
    {
      "cell_type": "markdown",
      "source": [
        "* **Localizando o município que possui o MENOR preço de venda de gasolina:**"
      ],
      "metadata": {
        "id": "XTxBrF9pi2A3"
      }
    },
    {
      "cell_type": "code",
      "source": [
        "menor_gasolina_x_municipio=df.loc[df['Produto']=='GASOLINA']\n",
        "menor_gasolina=menor_gasolina_x_municipio.groupby('Municipio').Valor.min()\n",
        "menor_municipio_gasolina=menor_gasolina.sort_values()\n",
        "menor_municipio_gasolina.head(1)"
      ],
      "metadata": {
        "id": "aU82JqGi9JMN",
        "colab": {
          "base_uri": "https://localhost:8080/"
        },
        "outputId": "37805b0b-fb5b-4a3f-efe1-db9fc622dfa3"
      },
      "execution_count": 250,
      "outputs": [
        {
          "output_type": "execute_result",
          "data": {
            "text/plain": [
              "Municipio\n",
              "COTIA    4.199\n",
              "Name: Valor, dtype: float64"
            ]
          },
          "metadata": {},
          "execution_count": 250
        }
      ]
    },
    {
      "cell_type": "markdown",
      "source": [
        "* **Localizando o município que possui o MENOR preço de venda de etanol:**"
      ],
      "metadata": {
        "id": "7S4AJxnAi7Cp"
      }
    },
    {
      "cell_type": "code",
      "source": [
        "menor_etanol_x_municipio=df.loc[df['Produto']=='ETANOL']\n",
        "menor_etanol=menor_etanol_x_municipio.groupby('Municipio').Valor.min()\n",
        "menor_municipio_etanol=menor_etanol.sort_values()\n",
        "menor_municipio_etanol.head(1)"
      ],
      "metadata": {
        "id": "oldmgZv3i9Gb",
        "colab": {
          "base_uri": "https://localhost:8080/"
        },
        "outputId": "cef6612a-87d4-4b56-c369-cebdadc8cb45"
      },
      "execution_count": 251,
      "outputs": [
        {
          "output_type": "execute_result",
          "data": {
            "text/plain": [
              "Municipio\n",
              "SANTA BARBARA D'OESTE    3.097\n",
              "Name: Valor, dtype: float64"
            ]
          },
          "metadata": {},
          "execution_count": 251
        }
      ]
    },
    {
      "cell_type": "markdown",
      "source": [
        "##### 6) Qual o município que possui o maior preço para a gasolina e para o etanol?"
      ],
      "metadata": {
        "id": "OkVYfvg44mPs"
      }
    },
    {
      "cell_type": "markdown",
      "source": [
        "* **Localizando o município que possui o MAIOR preço de venda de gasolina:**"
      ],
      "metadata": {
        "id": "tRW6bs6EjADA"
      }
    },
    {
      "cell_type": "code",
      "source": [
        "maior_gasolina_x_municipio=df.loc[df['Produto']=='GASOLINA']\n",
        "maior_gasolina=maior_gasolina_x_municipio.groupby('Municipio').Valor.max()\n",
        "maior_municipio_gasolina=maior_gasolina.sort_values(ascending=False)\n",
        "maior_municipio_gasolina.head(1)"
      ],
      "metadata": {
        "id": "eZWJuLnd9J8N",
        "colab": {
          "base_uri": "https://localhost:8080/"
        },
        "outputId": "e4353a66-3f42-4f97-be56-861025a5038a"
      },
      "execution_count": 252,
      "outputs": [
        {
          "output_type": "execute_result",
          "data": {
            "text/plain": [
              "Municipio\n",
              "BAGE    7.097\n",
              "Name: Valor, dtype: float64"
            ]
          },
          "metadata": {},
          "execution_count": 252
        }
      ]
    },
    {
      "cell_type": "code",
      "source": [
        ""
      ],
      "metadata": {
        "id": "TOVLbMEOjt9a"
      },
      "execution_count": 252,
      "outputs": []
    },
    {
      "cell_type": "markdown",
      "source": [
        "* **Localizando o município que possui o MAIOR preço de venda de etanol:**"
      ],
      "metadata": {
        "id": "4R35aL8qjDBr"
      }
    },
    {
      "cell_type": "code",
      "source": [
        "maior_etanol_x_municipio=df.loc[df['Produto']=='ETANOL']\n",
        "maior_etanol=maior_etanol_x_municipio.groupby('Municipio').Valor.max()\n",
        "maior_municipio_etanol=maior_etanol.sort_values(ascending=False)\n",
        "maior_municipio_etanol.head(1)"
      ],
      "metadata": {
        "id": "tm5a7vwzjENa",
        "colab": {
          "base_uri": "https://localhost:8080/"
        },
        "outputId": "1086d0c2-f711-4524-ee75-cc9d2ce580c1"
      },
      "execution_count": 253,
      "outputs": [
        {
          "output_type": "execute_result",
          "data": {
            "text/plain": [
              "Municipio\n",
              "PELOTAS    6.999\n",
              "Name: Valor, dtype: float64"
            ]
          },
          "metadata": {},
          "execution_count": 253
        }
      ]
    },
    {
      "cell_type": "markdown",
      "source": [
        "**Quanto a nota explicativa das questões 5 e 6:**\n",
        "\n",
        "* Não há informações de análise a serem extraídas por se tratar de dados específicos obtidos através de operações aritméticas.\n"
      ],
      "metadata": {
        "id": "N1sUsExI4wv6"
      }
    },
    {
      "cell_type": "markdown",
      "metadata": {
        "id": "1d6XlzgsSfES"
      },
      "source": [
        "#### ***04: Samyr***"
      ]
    },
    {
      "cell_type": "markdown",
      "metadata": {
        "id": "5DqemWXoW-Y2"
      },
      "source": [
        "##### 7) Qual a região que possui o maior valor médio da gasolina?"
      ]
    },
    {
      "cell_type": "markdown",
      "source": [
        "* **Região x Gasolina: Cálculo do preço médio da gasolina por região:**"
      ],
      "metadata": {
        "id": "f-eS21rpYPUd"
      }
    },
    {
      "cell_type": "code",
      "execution_count": 254,
      "metadata": {
        "id": "AU3j1Nikd8hb",
        "colab": {
          "base_uri": "https://localhost:8080/",
          "height": 206
        },
        "outputId": "c6852880-2a68-412b-ab27-d7973a5eb99b"
      },
      "outputs": [
        {
          "output_type": "execute_result",
          "data": {
            "text/html": [
              "\n",
              "  <div id=\"df-e4d147dd-50ac-49af-9f1f-d62f08e95e6c\">\n",
              "    <div class=\"colab-df-container\">\n",
              "      <div>\n",
              "<style scoped>\n",
              "    .dataframe tbody tr th:only-of-type {\n",
              "        vertical-align: middle;\n",
              "    }\n",
              "\n",
              "    .dataframe tbody tr th {\n",
              "        vertical-align: top;\n",
              "    }\n",
              "\n",
              "    .dataframe thead th {\n",
              "        text-align: right;\n",
              "    }\n",
              "</style>\n",
              "<table border=\"1\" class=\"dataframe\">\n",
              "  <thead>\n",
              "    <tr style=\"text-align: right;\">\n",
              "      <th></th>\n",
              "      <th>Regiao</th>\n",
              "      <th>Valor</th>\n",
              "    </tr>\n",
              "  </thead>\n",
              "  <tbody>\n",
              "    <tr>\n",
              "      <th>0</th>\n",
              "      <td>CO</td>\n",
              "      <td>5.934015</td>\n",
              "    </tr>\n",
              "    <tr>\n",
              "      <th>1</th>\n",
              "      <td>NE</td>\n",
              "      <td>5.917449</td>\n",
              "    </tr>\n",
              "    <tr>\n",
              "      <th>2</th>\n",
              "      <td>N</td>\n",
              "      <td>5.873776</td>\n",
              "    </tr>\n",
              "    <tr>\n",
              "      <th>3</th>\n",
              "      <td>S</td>\n",
              "      <td>5.771864</td>\n",
              "    </tr>\n",
              "    <tr>\n",
              "      <th>4</th>\n",
              "      <td>SE</td>\n",
              "      <td>5.730692</td>\n",
              "    </tr>\n",
              "  </tbody>\n",
              "</table>\n",
              "</div>\n",
              "      <button class=\"colab-df-convert\" onclick=\"convertToInteractive('df-e4d147dd-50ac-49af-9f1f-d62f08e95e6c')\"\n",
              "              title=\"Convert this dataframe to an interactive table.\"\n",
              "              style=\"display:none;\">\n",
              "        \n",
              "  <svg xmlns=\"http://www.w3.org/2000/svg\" height=\"24px\"viewBox=\"0 0 24 24\"\n",
              "       width=\"24px\">\n",
              "    <path d=\"M0 0h24v24H0V0z\" fill=\"none\"/>\n",
              "    <path d=\"M18.56 5.44l.94 2.06.94-2.06 2.06-.94-2.06-.94-.94-2.06-.94 2.06-2.06.94zm-11 1L8.5 8.5l.94-2.06 2.06-.94-2.06-.94L8.5 2.5l-.94 2.06-2.06.94zm10 10l.94 2.06.94-2.06 2.06-.94-2.06-.94-.94-2.06-.94 2.06-2.06.94z\"/><path d=\"M17.41 7.96l-1.37-1.37c-.4-.4-.92-.59-1.43-.59-.52 0-1.04.2-1.43.59L10.3 9.45l-7.72 7.72c-.78.78-.78 2.05 0 2.83L4 21.41c.39.39.9.59 1.41.59.51 0 1.02-.2 1.41-.59l7.78-7.78 2.81-2.81c.8-.78.8-2.07 0-2.86zM5.41 20L4 18.59l7.72-7.72 1.47 1.35L5.41 20z\"/>\n",
              "  </svg>\n",
              "      </button>\n",
              "      \n",
              "  <style>\n",
              "    .colab-df-container {\n",
              "      display:flex;\n",
              "      flex-wrap:wrap;\n",
              "      gap: 12px;\n",
              "    }\n",
              "\n",
              "    .colab-df-convert {\n",
              "      background-color: #E8F0FE;\n",
              "      border: none;\n",
              "      border-radius: 50%;\n",
              "      cursor: pointer;\n",
              "      display: none;\n",
              "      fill: #1967D2;\n",
              "      height: 32px;\n",
              "      padding: 0 0 0 0;\n",
              "      width: 32px;\n",
              "    }\n",
              "\n",
              "    .colab-df-convert:hover {\n",
              "      background-color: #E2EBFA;\n",
              "      box-shadow: 0px 1px 2px rgba(60, 64, 67, 0.3), 0px 1px 3px 1px rgba(60, 64, 67, 0.15);\n",
              "      fill: #174EA6;\n",
              "    }\n",
              "\n",
              "    [theme=dark] .colab-df-convert {\n",
              "      background-color: #3B4455;\n",
              "      fill: #D2E3FC;\n",
              "    }\n",
              "\n",
              "    [theme=dark] .colab-df-convert:hover {\n",
              "      background-color: #434B5C;\n",
              "      box-shadow: 0px 1px 3px 1px rgba(0, 0, 0, 0.15);\n",
              "      filter: drop-shadow(0px 1px 2px rgba(0, 0, 0, 0.3));\n",
              "      fill: #FFFFFF;\n",
              "    }\n",
              "  </style>\n",
              "\n",
              "      <script>\n",
              "        const buttonEl =\n",
              "          document.querySelector('#df-e4d147dd-50ac-49af-9f1f-d62f08e95e6c button.colab-df-convert');\n",
              "        buttonEl.style.display =\n",
              "          google.colab.kernel.accessAllowed ? 'block' : 'none';\n",
              "\n",
              "        async function convertToInteractive(key) {\n",
              "          const element = document.querySelector('#df-e4d147dd-50ac-49af-9f1f-d62f08e95e6c');\n",
              "          const dataTable =\n",
              "            await google.colab.kernel.invokeFunction('convertToInteractive',\n",
              "                                                     [key], {});\n",
              "          if (!dataTable) return;\n",
              "\n",
              "          const docLinkHtml = 'Like what you see? Visit the ' +\n",
              "            '<a target=\"_blank\" href=https://colab.research.google.com/notebooks/data_table.ipynb>data table notebook</a>'\n",
              "            + ' to learn more about interactive tables.';\n",
              "          element.innerHTML = '';\n",
              "          dataTable['output_type'] = 'display_data';\n",
              "          await google.colab.output.renderOutput(dataTable, element);\n",
              "          const docLink = document.createElement('div');\n",
              "          docLink.innerHTML = docLinkHtml;\n",
              "          element.appendChild(docLink);\n",
              "        }\n",
              "      </script>\n",
              "    </div>\n",
              "  </div>\n",
              "  "
            ],
            "text/plain": [
              "  Regiao     Valor\n",
              "0     CO  5.934015\n",
              "1     NE  5.917449\n",
              "2      N  5.873776\n",
              "3      S  5.771864\n",
              "4     SE  5.730692"
            ]
          },
          "metadata": {},
          "execution_count": 254
        }
      ],
      "source": [
        "gasol = df.loc[ df['Produto'] == 'GASOLINA' ]\n",
        "max_reg_gasol = gasol.groupby('Regiao').Valor.mean().sort_values(ascending=False).reset_index()\n",
        "max_reg_gasol"
      ]
    },
    {
      "cell_type": "markdown",
      "source": [
        "* **Localizando a região que possui o MAIOR valor médio de gasolina:**"
      ],
      "metadata": {
        "id": "8xz83VFYZScE"
      }
    },
    {
      "cell_type": "code",
      "source": [
        "max_reg_gasol.max()"
      ],
      "metadata": {
        "id": "Byjl_iRMmPgq",
        "colab": {
          "base_uri": "https://localhost:8080/"
        },
        "outputId": "d4abe745-bdb5-43c1-80d2-a823e13be3f8"
      },
      "execution_count": 255,
      "outputs": [
        {
          "output_type": "execute_result",
          "data": {
            "text/plain": [
              "Regiao          SE\n",
              "Valor     5.934015\n",
              "dtype: object"
            ]
          },
          "metadata": {},
          "execution_count": 255
        }
      ]
    },
    {
      "cell_type": "markdown",
      "metadata": {
        "id": "iN9W2mE1d9GF"
      },
      "source": [
        "##### 8) Qual a região que possui o menor valor médio do etanol?"
      ]
    },
    {
      "cell_type": "markdown",
      "source": [
        "* **Região x Etanol: Cálculo do preço médio do etanol por região:**"
      ],
      "metadata": {
        "id": "QY1S0pRyYvDx"
      }
    },
    {
      "cell_type": "code",
      "execution_count": 256,
      "metadata": {
        "id": "Vp5Ho02XeBtD",
        "colab": {
          "base_uri": "https://localhost:8080/",
          "height": 238
        },
        "outputId": "b6327141-2c78-4c7d-a4be-e841a06e2ac7"
      },
      "outputs": [
        {
          "output_type": "execute_result",
          "data": {
            "text/html": [
              "\n",
              "  <div id=\"df-aa730121-cdb7-44ec-b918-0fc22b495da8\">\n",
              "    <div class=\"colab-df-container\">\n",
              "      <div>\n",
              "<style scoped>\n",
              "    .dataframe tbody tr th:only-of-type {\n",
              "        vertical-align: middle;\n",
              "    }\n",
              "\n",
              "    .dataframe tbody tr th {\n",
              "        vertical-align: top;\n",
              "    }\n",
              "\n",
              "    .dataframe thead th {\n",
              "        text-align: right;\n",
              "    }\n",
              "</style>\n",
              "<table border=\"1\" class=\"dataframe\">\n",
              "  <thead>\n",
              "    <tr style=\"text-align: right;\">\n",
              "      <th></th>\n",
              "      <th>Valor</th>\n",
              "    </tr>\n",
              "    <tr>\n",
              "      <th>Regiao</th>\n",
              "      <th></th>\n",
              "    </tr>\n",
              "  </thead>\n",
              "  <tbody>\n",
              "    <tr>\n",
              "      <th>SE</th>\n",
              "      <td>4.354765</td>\n",
              "    </tr>\n",
              "    <tr>\n",
              "      <th>CO</th>\n",
              "      <td>4.406943</td>\n",
              "    </tr>\n",
              "    <tr>\n",
              "      <th>S</th>\n",
              "      <td>4.819885</td>\n",
              "    </tr>\n",
              "    <tr>\n",
              "      <th>N</th>\n",
              "      <td>5.046574</td>\n",
              "    </tr>\n",
              "    <tr>\n",
              "      <th>NE</th>\n",
              "      <td>5.090050</td>\n",
              "    </tr>\n",
              "  </tbody>\n",
              "</table>\n",
              "</div>\n",
              "      <button class=\"colab-df-convert\" onclick=\"convertToInteractive('df-aa730121-cdb7-44ec-b918-0fc22b495da8')\"\n",
              "              title=\"Convert this dataframe to an interactive table.\"\n",
              "              style=\"display:none;\">\n",
              "        \n",
              "  <svg xmlns=\"http://www.w3.org/2000/svg\" height=\"24px\"viewBox=\"0 0 24 24\"\n",
              "       width=\"24px\">\n",
              "    <path d=\"M0 0h24v24H0V0z\" fill=\"none\"/>\n",
              "    <path d=\"M18.56 5.44l.94 2.06.94-2.06 2.06-.94-2.06-.94-.94-2.06-.94 2.06-2.06.94zm-11 1L8.5 8.5l.94-2.06 2.06-.94-2.06-.94L8.5 2.5l-.94 2.06-2.06.94zm10 10l.94 2.06.94-2.06 2.06-.94-2.06-.94-.94-2.06-.94 2.06-2.06.94z\"/><path d=\"M17.41 7.96l-1.37-1.37c-.4-.4-.92-.59-1.43-.59-.52 0-1.04.2-1.43.59L10.3 9.45l-7.72 7.72c-.78.78-.78 2.05 0 2.83L4 21.41c.39.39.9.59 1.41.59.51 0 1.02-.2 1.41-.59l7.78-7.78 2.81-2.81c.8-.78.8-2.07 0-2.86zM5.41 20L4 18.59l7.72-7.72 1.47 1.35L5.41 20z\"/>\n",
              "  </svg>\n",
              "      </button>\n",
              "      \n",
              "  <style>\n",
              "    .colab-df-container {\n",
              "      display:flex;\n",
              "      flex-wrap:wrap;\n",
              "      gap: 12px;\n",
              "    }\n",
              "\n",
              "    .colab-df-convert {\n",
              "      background-color: #E8F0FE;\n",
              "      border: none;\n",
              "      border-radius: 50%;\n",
              "      cursor: pointer;\n",
              "      display: none;\n",
              "      fill: #1967D2;\n",
              "      height: 32px;\n",
              "      padding: 0 0 0 0;\n",
              "      width: 32px;\n",
              "    }\n",
              "\n",
              "    .colab-df-convert:hover {\n",
              "      background-color: #E2EBFA;\n",
              "      box-shadow: 0px 1px 2px rgba(60, 64, 67, 0.3), 0px 1px 3px 1px rgba(60, 64, 67, 0.15);\n",
              "      fill: #174EA6;\n",
              "    }\n",
              "\n",
              "    [theme=dark] .colab-df-convert {\n",
              "      background-color: #3B4455;\n",
              "      fill: #D2E3FC;\n",
              "    }\n",
              "\n",
              "    [theme=dark] .colab-df-convert:hover {\n",
              "      background-color: #434B5C;\n",
              "      box-shadow: 0px 1px 3px 1px rgba(0, 0, 0, 0.15);\n",
              "      filter: drop-shadow(0px 1px 2px rgba(0, 0, 0, 0.3));\n",
              "      fill: #FFFFFF;\n",
              "    }\n",
              "  </style>\n",
              "\n",
              "      <script>\n",
              "        const buttonEl =\n",
              "          document.querySelector('#df-aa730121-cdb7-44ec-b918-0fc22b495da8 button.colab-df-convert');\n",
              "        buttonEl.style.display =\n",
              "          google.colab.kernel.accessAllowed ? 'block' : 'none';\n",
              "\n",
              "        async function convertToInteractive(key) {\n",
              "          const element = document.querySelector('#df-aa730121-cdb7-44ec-b918-0fc22b495da8');\n",
              "          const dataTable =\n",
              "            await google.colab.kernel.invokeFunction('convertToInteractive',\n",
              "                                                     [key], {});\n",
              "          if (!dataTable) return;\n",
              "\n",
              "          const docLinkHtml = 'Like what you see? Visit the ' +\n",
              "            '<a target=\"_blank\" href=https://colab.research.google.com/notebooks/data_table.ipynb>data table notebook</a>'\n",
              "            + ' to learn more about interactive tables.';\n",
              "          element.innerHTML = '';\n",
              "          dataTable['output_type'] = 'display_data';\n",
              "          await google.colab.output.renderOutput(dataTable, element);\n",
              "          const docLink = document.createElement('div');\n",
              "          docLink.innerHTML = docLinkHtml;\n",
              "          element.appendChild(docLink);\n",
              "        }\n",
              "      </script>\n",
              "    </div>\n",
              "  </div>\n",
              "  "
            ],
            "text/plain": [
              "           Valor\n",
              "Regiao          \n",
              "SE      4.354765\n",
              "CO      4.406943\n",
              "S       4.819885\n",
              "N       5.046574\n",
              "NE      5.090050"
            ]
          },
          "metadata": {},
          "execution_count": 256
        }
      ],
      "source": [
        "etanol = df[df['Produto'].isin(['ETANOL'])]\n",
        "min_reg_etanol = etanol.groupby('Regiao').agg({'Valor': 'mean'}).sort_values('Valor')\n",
        "min_reg_etanol"
      ]
    },
    {
      "cell_type": "markdown",
      "source": [
        "* **Localizando a região que possui o Menor valor médio de etanol:**"
      ],
      "metadata": {
        "id": "fymZ0YgVaaPI"
      }
    },
    {
      "cell_type": "code",
      "source": [
        "min_reg_etanol.min()"
      ],
      "metadata": {
        "id": "oivfGeshmW1A",
        "colab": {
          "base_uri": "https://localhost:8080/"
        },
        "outputId": "f434d9ba-0921-45b6-f142-3e212bffdd4b"
      },
      "execution_count": 257,
      "outputs": [
        {
          "output_type": "execute_result",
          "data": {
            "text/plain": [
              "Valor    4.354765\n",
              "dtype: float64"
            ]
          },
          "metadata": {},
          "execution_count": 257
        }
      ]
    },
    {
      "cell_type": "code",
      "source": [
        "media_regiao = df.groupby(['Regiao', 'Produto'])['Valor'].mean().reset_index()"
      ],
      "metadata": {
        "id": "_S647wBQAz6Q"
      },
      "execution_count": 258,
      "outputs": []
    },
    {
      "cell_type": "code",
      "source": [
        "fig = plt.figure(figsize=(30,10))\n",
        "plt.title('Preço médio da gasolina e do etanol no período', fontsize=30)\n",
        "\n",
        "sns.set(font_scale=2)\n",
        "sns.barplot(y='Valor', x='Regiao', hue='Produto',  data=media_regiao, palette='viridis');\n",
        "plt.ylabel('Valor médio')\n",
        "plt.xlabel('Região')\n",
        "plt.legend(title=\"Produto\")\n",
        "\n",
        "plt.tight_layout()"
      ],
      "metadata": {
        "colab": {
          "base_uri": "https://localhost:8080/",
          "height": 595
        },
        "id": "3Js2uUWuA8-5",
        "outputId": "7c12b7d2-536f-4df5-a0bf-f45e933dee7a"
      },
      "execution_count": 259,
      "outputs": [
        {
          "output_type": "display_data",
          "data": {
            "image/png": "[encoded data removed]",
            "text/plain": [
              "<Figure size 2160x720 with 1 Axes>"
            ]
          },
          "metadata": {}
        }
      ]
    },
    {
      "cell_type": "markdown",
      "source": [
        "**Acerca da expressão dos dados obtidos nas questões 7 e 8:**\n",
        "\n",
        "* Por tratar-se de dado único e objetivo, obtido através de funções matemáticas, não há muito o que explicar. Pois, nestas em questão, foi, basicamente, extração com filtros."
      ],
      "metadata": {
        "id": "0Q0Z4CJS5cpb"
      }
    },
    {
      "cell_type": "markdown",
      "metadata": {
        "id": "_j4lQNXSShYa"
      },
      "source": [
        "#### ***05: Vinicius***"
      ]
    },
    {
      "cell_type": "markdown",
      "metadata": {
        "id": "izdA3h5KTlCt"
      },
      "source": [
        "##### 9) Há alguma correlação entre o valor do combustível (gasolina e etanol) e a região onde ele é vendido?"
      ]
    },
    {
      "cell_type": "markdown",
      "source": [
        "A princípio nós efetuamos a operação para verificar o valor médio por região:"
      ],
      "metadata": {
        "id": "bBN2BAsF3-7g"
      }
    },
    {
      "cell_type": "code",
      "execution_count": 260,
      "metadata": {
        "id": "Q8DTT7MKGhrQ",
        "colab": {
          "base_uri": "https://localhost:8080/"
        },
        "outputId": "f171fbe5-3f9e-4ddb-be13-b5056eb67458"
      },
      "outputs": [
        {
          "output_type": "execute_result",
          "data": {
            "text/plain": [
              "Regiao\n",
              "CO    5.349\n",
              "N     5.687\n",
              "NE    5.634\n",
              "S     5.526\n",
              "SE    5.224\n",
              "Name: Valor, dtype: float64"
            ]
          },
          "metadata": {},
          "execution_count": 260
        }
      ],
      "source": [
        "df_group_reg = df.groupby('Regiao')\n",
        "data_1 = df_group_reg['Valor'].mean().round(3)\n",
        "data_1"
      ]
    },
    {
      "cell_type": "code",
      "source": [
        "ax = data_1.plot.bar(x='Regiao', y='Valor', rot=0)"
      ],
      "metadata": {
        "colab": {
          "base_uri": "https://localhost:8080/",
          "height": 306
        },
        "id": "QuPRQFVP5Yrj",
        "outputId": "32a17923-eab1-41a7-dcd8-b0c986ffc5bb"
      },
      "execution_count": 261,
      "outputs": [
        {
          "output_type": "display_data",
          "data": {
            "image/png": "[encoded data removed]",
            "text/plain": [
              "<Figure size 432x288 with 1 Axes>"
            ]
          },
          "metadata": {}
        }
      ]
    },
    {
      "cell_type": "markdown",
      "source": [
        "Após isso, calculamos os valores de média, moda e mediana:"
      ],
      "metadata": {
        "id": "6vv7hn904JKD"
      }
    },
    {
      "cell_type": "code",
      "execution_count": 262,
      "metadata": {
        "id": "pph_dluXK2El",
        "colab": {
          "base_uri": "https://localhost:8080/"
        },
        "outputId": "e499fd2e-a295-4b99-d799-44fc659e3412"
      },
      "outputs": [
        {
          "output_type": "execute_result",
          "data": {
            "text/plain": [
              "5.38"
            ]
          },
          "metadata": {},
          "execution_count": 262
        }
      ],
      "source": [
        "data_2 = round(df['Valor'].mean(), 2)\n",
        "data_2"
      ]
    },
    {
      "cell_type": "code",
      "source": [
        "data_3 = round(df['Valor'].mode(), 2)\n",
        "data_3"
      ],
      "metadata": {
        "colab": {
          "base_uri": "https://localhost:8080/"
        },
        "id": "f6CJeI1x2ttD",
        "outputId": "a5d44d38-d326-4d03-8e50-c90a1ab62c48"
      },
      "execution_count": 263,
      "outputs": [
        {
          "output_type": "execute_result",
          "data": {
            "text/plain": [
              "0    5.6\n",
              "dtype: float64"
            ]
          },
          "metadata": {},
          "execution_count": 263
        }
      ]
    },
    {
      "cell_type": "code",
      "source": [
        "data_4 = round(df['Valor'].median(), 2)\n",
        "data_4"
      ],
      "metadata": {
        "colab": {
          "base_uri": "https://localhost:8080/"
        },
        "id": "vt2YSV-63ca8",
        "outputId": "0c730797-b833-4a78-d6f3-4c767ef9318a"
      },
      "execution_count": 264,
      "outputs": [
        {
          "output_type": "execute_result",
          "data": {
            "text/plain": [
              "5.55"
            ]
          },
          "metadata": {},
          "execution_count": 264
        }
      ]
    },
    {
      "cell_type": "markdown",
      "source": [
        "E por último, podemos ver o total dos valores por região:\n"
      ],
      "metadata": {
        "id": "2bl0JQaTCCPQ"
      }
    },
    {
      "cell_type": "code",
      "source": [
        "df_group_reg = df.groupby(['Regiao'])\n",
        "data_5 = df_group_reg['Valor'].sum().round(2)\n",
        "data_5"
      ],
      "metadata": {
        "colab": {
          "base_uri": "https://localhost:8080/"
        },
        "id": "ce1xO9xN6sN_",
        "outputId": "55dfd27d-40a0-4dbe-d324-4a8d7e31f63e"
      },
      "execution_count": 265,
      "outputs": [
        {
          "output_type": "execute_result",
          "data": {
            "text/plain": [
              "Regiao\n",
              "CO     41682.59\n",
              "N      28382.11\n",
              "NE    103545.01\n",
              "S      89543.26\n",
              "SE    262340.70\n",
              "Name: Valor, dtype: float64"
            ]
          },
          "metadata": {},
          "execution_count": 265
        }
      ]
    },
    {
      "cell_type": "markdown",
      "source": [
        "* Analisando essas informações e levando considerações alguns fatores como frete, consumo médio, entre outros. Podemos ver que o valor da gasolina no Sudeste (Menor valor) é R$ 0,47 mais barata do que o valor mais alto, no caso, da região Norte. Isso se leva por conta de vários indicadores, podemos ver acima que o consumo no sudeste é muito maior do que no Norte, por conta disso, a demanda faz a oferta cair. Além disso, o frete do combustível impacta negativamente no preço e afeta bastante a região Norte do país."
      ],
      "metadata": {
        "id": "xkn56G0aCNx0"
      }
    },
    {
      "cell_type": "markdown",
      "metadata": {
        "id": "TCn7ZSKEFRg4"
      },
      "source": [
        "##### 10) Há alguma correlação entre o valor do combustível (gasolina e etanol) e a bandeira que vende ele?"
      ]
    },
    {
      "cell_type": "code",
      "source": [
        "df_group_band = df.groupby('Bandeira')\n",
        "df_group_band['Valor'].mean().round(3).sort_values()"
      ],
      "metadata": {
        "colab": {
          "base_uri": "https://localhost:8080/"
        },
        "id": "_1o10_uKFU5G",
        "outputId": "ff64c259-d80a-45d5-ae33-9eed04d5953d"
      },
      "execution_count": 266,
      "outputs": [
        {
          "output_type": "execute_result",
          "data": {
            "text/plain": [
              "Bandeira\n",
              "RUFF C.J.                       4.862\n",
              "TORRAO                          4.862\n",
              "PELIKANO                        4.916\n",
              "UNI                             4.937\n",
              "D`MAIS                          4.998\n",
              "RZD DISTRIBUIDORA               5.027\n",
              "ESTRADA                         5.057\n",
              "STANG                           5.091\n",
              "TAURUS                          5.204\n",
              "CIAPETRO                        5.218\n",
              "BRANCA                          5.233\n",
              "POTENCIAL                       5.276\n",
              "ROYAL FIC                       5.278\n",
              "IDAZA                           5.288\n",
              "DIBRAPE                         5.297\n",
              "SIMARELLI                       5.307\n",
              "WALENDOWSKY                     5.320\n",
              "TOTAL BRASIL                    5.331\n",
              "FEDERAL ENERGIA                 5.337\n",
              "SMALL                           5.354\n",
              "ATEM' S                         5.361\n",
              "PETROSERRA                      5.382\n",
              "RAIZEN MIME                     5.405\n",
              "RAIZEN                          5.421\n",
              "REJAILE                         5.432\n",
              "IPIRANGA                        5.433\n",
              "WATT                            5.446\n",
              "TEMAPE                          5.447\n",
              "SETTA DISTRIBUIDORA             5.451\n",
              "AMERICANOIL                     5.453\n",
              "RIO BRANCO                      5.462\n",
              "ALESAT                          5.467\n",
              "MAXSUL                          5.483\n",
              "PETROX DISTRIBUIDORA            5.491\n",
              "MASUT DISTRIBUIDORA             5.497\n",
              "PETROBRAS DISTRIBUIDORA S.A.    5.538\n",
              "LARCO                           5.560\n",
              "TDC DISTRIBUIDORA               5.569\n",
              "TOBRAS                          5.575\n",
              "SABBÁ                           5.626\n",
              "ACOL                            5.654\n",
              "ATLÂNTICA                       5.661\n",
              "DISLUB                          5.699\n",
              "RODOIL                          5.722\n",
              "SP                              5.730\n",
              "FAN                             5.764\n",
              "EQUADOR                         5.780\n",
              "PETROBAHIA                      5.783\n",
              "SUL COMBUSTÍVEIS                6.071\n",
              "CHARRUA                         6.075\n",
              "Name: Valor, dtype: float64"
            ]
          },
          "metadata": {},
          "execution_count": 266
        }
      ]
    },
    {
      "cell_type": "code",
      "execution_count": 267,
      "metadata": {
        "id": "NrcuBjqoFQRA",
        "colab": {
          "base_uri": "https://localhost:8080/"
        },
        "outputId": "6d9a540e-c964-4879-9088-ee971ab777dc"
      },
      "outputs": [
        {
          "output_type": "execute_result",
          "data": {
            "text/plain": [
              "Bandeira\n",
              "BRANCA                          188006.059\n",
              "PETROBRAS DISTRIBUIDORA S.A.    114250.888\n",
              "IPIRANGA                         92179.120\n",
              "RAIZEN                           88116.828\n",
              "ALESAT                           11185.558\n",
              "SABBÁ                             5861.789\n",
              "RAIZEN MIME                       2816.205\n",
              "ATEM' S                           2701.998\n",
              "RODOIL                            2168.776\n",
              "EQUADOR                           1942.136\n",
              "SP                                1718.882\n",
              "DISLUB                            1287.944\n",
              "IDAZA                             1221.530\n",
              "PETROX DISTRIBUIDORA               873.119\n",
              "TAURUS                             853.392\n",
              "CIAPETRO                           735.740\n",
              "STANG                              697.528\n",
              "SETTA DISTRIBUIDORA                648.726\n",
              "CHARRUA                            631.816\n",
              "TOTAL BRASIL                       613.023\n",
              "RIO BRANCO                         595.370\n",
              "SIMARELLI                          541.291\n",
              "TDC DISTRIBUIDORA                  523.531\n",
              "AMERICANOIL                        485.311\n",
              "MASUT DISTRIBUIDORA                406.750\n",
              "PETROBAHIA                         404.836\n",
              "ATLÂNTICA                          396.237\n",
              "FAN                                357.348\n",
              "POTENCIAL                          311.295\n",
              "MAXSUL                             301.552\n",
              "TORRAO                             291.690\n",
              "TEMAPE                             288.677\n",
              "FEDERAL ENERGIA                    272.212\n",
              "SUL COMBUSTÍVEIS                   218.571\n",
              "ROYAL FIC                          174.181\n",
              "DIBRAPE                            148.310\n",
              "WALENDOWSKY                        143.641\n",
              "TOBRAS                             133.796\n",
              "PETROSERRA                         129.160\n",
              "RZD DISTRIBUIDORA                  120.650\n",
              "REJAILE                            119.498\n",
              "LARCO                              116.750\n",
              "SMALL                              112.432\n",
              "UNI                                103.680\n",
              "WATT                                81.688\n",
              "D`MAIS                              59.979\n",
              "ACOL                                50.882\n",
              "RUFF C.J.                           48.620\n",
              "PELIKANO                            29.494\n",
              "ESTRADA                             15.170\n",
              "Name: Valor, dtype: float64"
            ]
          },
          "metadata": {},
          "execution_count": 267
        }
      ],
      "source": [
        "df_group_band = df.groupby('Bandeira')\n",
        "df_group_band['Valor'].sum().round(3).sort_values(ascending = False)"
      ]
    },
    {
      "cell_type": "markdown",
      "source": [
        "#### **06. Questões elaboradas**"
      ],
      "metadata": {
        "id": "4KJNIRSH8TCa"
      }
    },
    {
      "cell_type": "markdown",
      "source": [
        "Problemas investigados acerca das questões extras elaboradas pela equipe:"
      ],
      "metadata": {
        "id": "wpm0KRxC8kxC"
      }
    },
    {
      "cell_type": "markdown",
      "metadata": {
        "id": "HOoEaA_6k9B9"
      },
      "source": [
        "##### 1) Quais foram as 3 revendas com maiores e as 3 com menores preços médios no período e em qual estado ela está localizada? "
      ]
    },
    {
      "cell_type": "code",
      "source": [
        "a = df.groupby(['Estado', 'Revenda'])['Valor'].mean().sort_values(ascending=False)\n",
        "print(a[:3])\n",
        "print(a[-3:])\n"
      ],
      "metadata": {
        "colab": {
          "base_uri": "https://localhost:8080/"
        },
        "id": "k-ZiZjcqiVLu",
        "outputId": "17d3a089-3e0d-4586-9f35-c453eeabffeb"
      },
      "execution_count": 269,
      "outputs": [
        {
          "output_type": "stream",
          "name": "stdout",
          "text": [
            "Estado  Revenda                  \n",
            "AC      J. ARAUJO DE OLIVEIRA        6.923333\n",
            "        MARCOS A.S. CORDEIRO         6.896667\n",
            "        LUBRAS DISTRIBUIDORA LTDA    6.893333\n",
            "Name: Valor, dtype: float64\n",
            "Estado  Revenda                                    \n",
            "SP      AUTO POSTO JARDIM DO CAMBUCI LTDA              4.2990\n",
            "        CENTRO AUTOMOTIVO SGS CAPITÃO CAMARGO LTDA.    4.2985\n",
            "        AUTO POSTO GRAN PRIX LTDA                      4.2790\n",
            "Name: Valor, dtype: float64\n"
          ]
        }
      ]
    },
    {
      "cell_type": "markdown",
      "source": [
        "**Quanto às questões ligadas aos valores dos combustíveis, podemos verificar que:**\n",
        "\n",
        "* Os valores de comercialização mais altos estão contidos no Acre. Estando assim, ligados diretamente a fatores de custeio de transporte e da baixa demanda por número de revendas.\n",
        "\n",
        "* Os valores de comercialização mais baixo estão contidos em São Paulo. Esse fato se virifica pela grande quantidade de revendas no estado e pela alta demanda por ser um grande centro urbano."
      ],
      "metadata": {
        "id": "9OUJdrSOx0Cw"
      }
    },
    {
      "cell_type": "markdown",
      "source": [
        "##### 2) Existe alguma relação dos estados que vendem a gasolina mais cara com a quantidade de revendas que eles possuem?"
      ],
      "metadata": {
        "id": "fqdbogpj9crw"
      }
    },
    {
      "cell_type": "code",
      "source": [
        "rank_gasolina"
      ],
      "metadata": {
        "colab": {
          "base_uri": "https://localhost:8080/",
          "height": 206
        },
        "id": "IdAWBTMkFweh",
        "outputId": "440bdaeb-3385-44f6-ce96-f592ed16b06a"
      },
      "execution_count": 271,
      "outputs": [
        {
          "output_type": "execute_result",
          "data": {
            "text/html": [
              "\n",
              "  <div id=\"df-f2807f2b-0af3-47fc-af14-bf4de9fb4e9b\">\n",
              "    <div class=\"colab-df-container\">\n",
              "      <div>\n",
              "<style scoped>\n",
              "    .dataframe tbody tr th:only-of-type {\n",
              "        vertical-align: middle;\n",
              "    }\n",
              "\n",
              "    .dataframe tbody tr th {\n",
              "        vertical-align: top;\n",
              "    }\n",
              "\n",
              "    .dataframe thead th {\n",
              "        text-align: right;\n",
              "    }\n",
              "</style>\n",
              "<table border=\"1\" class=\"dataframe\">\n",
              "  <thead>\n",
              "    <tr style=\"text-align: right;\">\n",
              "      <th></th>\n",
              "      <th>Estado</th>\n",
              "      <th>Valor</th>\n",
              "    </tr>\n",
              "  </thead>\n",
              "  <tbody>\n",
              "    <tr>\n",
              "      <th>0</th>\n",
              "      <td>AC</td>\n",
              "      <td>6.434892</td>\n",
              "    </tr>\n",
              "    <tr>\n",
              "      <th>1</th>\n",
              "      <td>RJ</td>\n",
              "      <td>6.353294</td>\n",
              "    </tr>\n",
              "    <tr>\n",
              "      <th>2</th>\n",
              "      <td>PI</td>\n",
              "      <td>6.197502</td>\n",
              "    </tr>\n",
              "    <tr>\n",
              "      <th>3</th>\n",
              "      <td>RN</td>\n",
              "      <td>6.182866</td>\n",
              "    </tr>\n",
              "    <tr>\n",
              "      <th>4</th>\n",
              "      <td>RS</td>\n",
              "      <td>6.084994</td>\n",
              "    </tr>\n",
              "  </tbody>\n",
              "</table>\n",
              "</div>\n",
              "      <button class=\"colab-df-convert\" onclick=\"convertToInteractive('df-f2807f2b-0af3-47fc-af14-bf4de9fb4e9b')\"\n",
              "              title=\"Convert this dataframe to an interactive table.\"\n",
              "              style=\"display:none;\">\n",
              "        \n",
              "  <svg xmlns=\"http://www.w3.org/2000/svg\" height=\"24px\"viewBox=\"0 0 24 24\"\n",
              "       width=\"24px\">\n",
              "    <path d=\"M0 0h24v24H0V0z\" fill=\"none\"/>\n",
              "    <path d=\"M18.56 5.44l.94 2.06.94-2.06 2.06-.94-2.06-.94-.94-2.06-.94 2.06-2.06.94zm-11 1L8.5 8.5l.94-2.06 2.06-.94-2.06-.94L8.5 2.5l-.94 2.06-2.06.94zm10 10l.94 2.06.94-2.06 2.06-.94-2.06-.94-.94-2.06-.94 2.06-2.06.94z\"/><path d=\"M17.41 7.96l-1.37-1.37c-.4-.4-.92-.59-1.43-.59-.52 0-1.04.2-1.43.59L10.3 9.45l-7.72 7.72c-.78.78-.78 2.05 0 2.83L4 21.41c.39.39.9.59 1.41.59.51 0 1.02-.2 1.41-.59l7.78-7.78 2.81-2.81c.8-.78.8-2.07 0-2.86zM5.41 20L4 18.59l7.72-7.72 1.47 1.35L5.41 20z\"/>\n",
              "  </svg>\n",
              "      </button>\n",
              "      \n",
              "  <style>\n",
              "    .colab-df-container {\n",
              "      display:flex;\n",
              "      flex-wrap:wrap;\n",
              "      gap: 12px;\n",
              "    }\n",
              "\n",
              "    .colab-df-convert {\n",
              "      background-color: #E8F0FE;\n",
              "      border: none;\n",
              "      border-radius: 50%;\n",
              "      cursor: pointer;\n",
              "      display: none;\n",
              "      fill: #1967D2;\n",
              "      height: 32px;\n",
              "      padding: 0 0 0 0;\n",
              "      width: 32px;\n",
              "    }\n",
              "\n",
              "    .colab-df-convert:hover {\n",
              "      background-color: #E2EBFA;\n",
              "      box-shadow: 0px 1px 2px rgba(60, 64, 67, 0.3), 0px 1px 3px 1px rgba(60, 64, 67, 0.15);\n",
              "      fill: #174EA6;\n",
              "    }\n",
              "\n",
              "    [theme=dark] .colab-df-convert {\n",
              "      background-color: #3B4455;\n",
              "      fill: #D2E3FC;\n",
              "    }\n",
              "\n",
              "    [theme=dark] .colab-df-convert:hover {\n",
              "      background-color: #434B5C;\n",
              "      box-shadow: 0px 1px 3px 1px rgba(0, 0, 0, 0.15);\n",
              "      filter: drop-shadow(0px 1px 2px rgba(0, 0, 0, 0.3));\n",
              "      fill: #FFFFFF;\n",
              "    }\n",
              "  </style>\n",
              "\n",
              "      <script>\n",
              "        const buttonEl =\n",
              "          document.querySelector('#df-f2807f2b-0af3-47fc-af14-bf4de9fb4e9b button.colab-df-convert');\n",
              "        buttonEl.style.display =\n",
              "          google.colab.kernel.accessAllowed ? 'block' : 'none';\n",
              "\n",
              "        async function convertToInteractive(key) {\n",
              "          const element = document.querySelector('#df-f2807f2b-0af3-47fc-af14-bf4de9fb4e9b');\n",
              "          const dataTable =\n",
              "            await google.colab.kernel.invokeFunction('convertToInteractive',\n",
              "                                                     [key], {});\n",
              "          if (!dataTable) return;\n",
              "\n",
              "          const docLinkHtml = 'Like what you see? Visit the ' +\n",
              "            '<a target=\"_blank\" href=https://colab.research.google.com/notebooks/data_table.ipynb>data table notebook</a>'\n",
              "            + ' to learn more about interactive tables.';\n",
              "          element.innerHTML = '';\n",
              "          dataTable['output_type'] = 'display_data';\n",
              "          await google.colab.output.renderOutput(dataTable, element);\n",
              "          const docLink = document.createElement('div');\n",
              "          docLink.innerHTML = docLinkHtml;\n",
              "          element.appendChild(docLink);\n",
              "        }\n",
              "      </script>\n",
              "    </div>\n",
              "  </div>\n",
              "  "
            ],
            "text/plain": [
              "  Estado     Valor\n",
              "0     AC  6.434892\n",
              "1     RJ  6.353294\n",
              "2     PI  6.197502\n",
              "3     RN  6.182866\n",
              "4     RS  6.084994"
            ]
          },
          "metadata": {},
          "execution_count": 271
        }
      ]
    },
    {
      "cell_type": "code",
      "source": [
        "tot_rev"
      ],
      "metadata": {
        "colab": {
          "base_uri": "https://localhost:8080/",
          "height": 896
        },
        "id": "MpUBpemsFzbQ",
        "outputId": "c6e16d16-6864-4e34-a957-0db02fe58ab6"
      },
      "execution_count": 273,
      "outputs": [
        {
          "output_type": "execute_result",
          "data": {
            "text/html": [
              "\n",
              "  <div id=\"df-878df240-68ee-4dcb-acaf-d3a47686add6\">\n",
              "    <div class=\"colab-df-container\">\n",
              "      <div>\n",
              "<style scoped>\n",
              "    .dataframe tbody tr th:only-of-type {\n",
              "        vertical-align: middle;\n",
              "    }\n",
              "\n",
              "    .dataframe tbody tr th {\n",
              "        vertical-align: top;\n",
              "    }\n",
              "\n",
              "    .dataframe thead th {\n",
              "        text-align: right;\n",
              "    }\n",
              "</style>\n",
              "<table border=\"1\" class=\"dataframe\">\n",
              "  <thead>\n",
              "    <tr style=\"text-align: right;\">\n",
              "      <th></th>\n",
              "      <th>Estado</th>\n",
              "      <th>Revenda</th>\n",
              "    </tr>\n",
              "  </thead>\n",
              "  <tbody>\n",
              "    <tr>\n",
              "      <th>0</th>\n",
              "      <td>SP</td>\n",
              "      <td>34677</td>\n",
              "    </tr>\n",
              "    <tr>\n",
              "      <th>1</th>\n",
              "      <td>MG</td>\n",
              "      <td>7494</td>\n",
              "    </tr>\n",
              "    <tr>\n",
              "      <th>2</th>\n",
              "      <td>RJ</td>\n",
              "      <td>6391</td>\n",
              "    </tr>\n",
              "    <tr>\n",
              "      <th>3</th>\n",
              "      <td>PR</td>\n",
              "      <td>6154</td>\n",
              "    </tr>\n",
              "    <tr>\n",
              "      <th>4</th>\n",
              "      <td>RS</td>\n",
              "      <td>5600</td>\n",
              "    </tr>\n",
              "    <tr>\n",
              "      <th>5</th>\n",
              "      <td>BA</td>\n",
              "      <td>4801</td>\n",
              "    </tr>\n",
              "    <tr>\n",
              "      <th>6</th>\n",
              "      <td>SC</td>\n",
              "      <td>4450</td>\n",
              "    </tr>\n",
              "    <tr>\n",
              "      <th>7</th>\n",
              "      <td>CE</td>\n",
              "      <td>4220</td>\n",
              "    </tr>\n",
              "    <tr>\n",
              "      <th>8</th>\n",
              "      <td>PE</td>\n",
              "      <td>3042</td>\n",
              "    </tr>\n",
              "    <tr>\n",
              "      <th>9</th>\n",
              "      <td>MT</td>\n",
              "      <td>2765</td>\n",
              "    </tr>\n",
              "    <tr>\n",
              "      <th>10</th>\n",
              "      <td>GO</td>\n",
              "      <td>2708</td>\n",
              "    </tr>\n",
              "    <tr>\n",
              "      <th>11</th>\n",
              "      <td>ES</td>\n",
              "      <td>1658</td>\n",
              "    </tr>\n",
              "    <tr>\n",
              "      <th>12</th>\n",
              "      <td>RN</td>\n",
              "      <td>1300</td>\n",
              "    </tr>\n",
              "    <tr>\n",
              "      <th>13</th>\n",
              "      <td>MA</td>\n",
              "      <td>1222</td>\n",
              "    </tr>\n",
              "    <tr>\n",
              "      <th>14</th>\n",
              "      <td>PA</td>\n",
              "      <td>1212</td>\n",
              "    </tr>\n",
              "    <tr>\n",
              "      <th>15</th>\n",
              "      <td>DF</td>\n",
              "      <td>1211</td>\n",
              "    </tr>\n",
              "    <tr>\n",
              "      <th>16</th>\n",
              "      <td>PI</td>\n",
              "      <td>1164</td>\n",
              "    </tr>\n",
              "    <tr>\n",
              "      <th>17</th>\n",
              "      <td>MS</td>\n",
              "      <td>1108</td>\n",
              "    </tr>\n",
              "    <tr>\n",
              "      <th>18</th>\n",
              "      <td>AM</td>\n",
              "      <td>1033</td>\n",
              "    </tr>\n",
              "    <tr>\n",
              "      <th>19</th>\n",
              "      <td>RO</td>\n",
              "      <td>1033</td>\n",
              "    </tr>\n",
              "    <tr>\n",
              "      <th>20</th>\n",
              "      <td>PB</td>\n",
              "      <td>971</td>\n",
              "    </tr>\n",
              "    <tr>\n",
              "      <th>21</th>\n",
              "      <td>AL</td>\n",
              "      <td>970</td>\n",
              "    </tr>\n",
              "    <tr>\n",
              "      <th>22</th>\n",
              "      <td>AC</td>\n",
              "      <td>749</td>\n",
              "    </tr>\n",
              "    <tr>\n",
              "      <th>23</th>\n",
              "      <td>SE</td>\n",
              "      <td>689</td>\n",
              "    </tr>\n",
              "    <tr>\n",
              "      <th>24</th>\n",
              "      <td>TO</td>\n",
              "      <td>544</td>\n",
              "    </tr>\n",
              "    <tr>\n",
              "      <th>25</th>\n",
              "      <td>RR</td>\n",
              "      <td>224</td>\n",
              "    </tr>\n",
              "    <tr>\n",
              "      <th>26</th>\n",
              "      <td>AP</td>\n",
              "      <td>196</td>\n",
              "    </tr>\n",
              "  </tbody>\n",
              "</table>\n",
              "</div>\n",
              "      <button class=\"colab-df-convert\" onclick=\"convertToInteractive('df-878df240-68ee-4dcb-acaf-d3a47686add6')\"\n",
              "              title=\"Convert this dataframe to an interactive table.\"\n",
              "              style=\"display:none;\">\n",
              "        \n",
              "  <svg xmlns=\"http://www.w3.org/2000/svg\" height=\"24px\"viewBox=\"0 0 24 24\"\n",
              "       width=\"24px\">\n",
              "    <path d=\"M0 0h24v24H0V0z\" fill=\"none\"/>\n",
              "    <path d=\"M18.56 5.44l.94 2.06.94-2.06 2.06-.94-2.06-.94-.94-2.06-.94 2.06-2.06.94zm-11 1L8.5 8.5l.94-2.06 2.06-.94-2.06-.94L8.5 2.5l-.94 2.06-2.06.94zm10 10l.94 2.06.94-2.06 2.06-.94-2.06-.94-.94-2.06-.94 2.06-2.06.94z\"/><path d=\"M17.41 7.96l-1.37-1.37c-.4-.4-.92-.59-1.43-.59-.52 0-1.04.2-1.43.59L10.3 9.45l-7.72 7.72c-.78.78-.78 2.05 0 2.83L4 21.41c.39.39.9.59 1.41.59.51 0 1.02-.2 1.41-.59l7.78-7.78 2.81-2.81c.8-.78.8-2.07 0-2.86zM5.41 20L4 18.59l7.72-7.72 1.47 1.35L5.41 20z\"/>\n",
              "  </svg>\n",
              "      </button>\n",
              "      \n",
              "  <style>\n",
              "    .colab-df-container {\n",
              "      display:flex;\n",
              "      flex-wrap:wrap;\n",
              "      gap: 12px;\n",
              "    }\n",
              "\n",
              "    .colab-df-convert {\n",
              "      background-color: #E8F0FE;\n",
              "      border: none;\n",
              "      border-radius: 50%;\n",
              "      cursor: pointer;\n",
              "      display: none;\n",
              "      fill: #1967D2;\n",
              "      height: 32px;\n",
              "      padding: 0 0 0 0;\n",
              "      width: 32px;\n",
              "    }\n",
              "\n",
              "    .colab-df-convert:hover {\n",
              "      background-color: #E2EBFA;\n",
              "      box-shadow: 0px 1px 2px rgba(60, 64, 67, 0.3), 0px 1px 3px 1px rgba(60, 64, 67, 0.15);\n",
              "      fill: #174EA6;\n",
              "    }\n",
              "\n",
              "    [theme=dark] .colab-df-convert {\n",
              "      background-color: #3B4455;\n",
              "      fill: #D2E3FC;\n",
              "    }\n",
              "\n",
              "    [theme=dark] .colab-df-convert:hover {\n",
              "      background-color: #434B5C;\n",
              "      box-shadow: 0px 1px 3px 1px rgba(0, 0, 0, 0.15);\n",
              "      filter: drop-shadow(0px 1px 2px rgba(0, 0, 0, 0.3));\n",
              "      fill: #FFFFFF;\n",
              "    }\n",
              "  </style>\n",
              "\n",
              "      <script>\n",
              "        const buttonEl =\n",
              "          document.querySelector('#df-878df240-68ee-4dcb-acaf-d3a47686add6 button.colab-df-convert');\n",
              "        buttonEl.style.display =\n",
              "          google.colab.kernel.accessAllowed ? 'block' : 'none';\n",
              "\n",
              "        async function convertToInteractive(key) {\n",
              "          const element = document.querySelector('#df-878df240-68ee-4dcb-acaf-d3a47686add6');\n",
              "          const dataTable =\n",
              "            await google.colab.kernel.invokeFunction('convertToInteractive',\n",
              "                                                     [key], {});\n",
              "          if (!dataTable) return;\n",
              "\n",
              "          const docLinkHtml = 'Like what you see? Visit the ' +\n",
              "            '<a target=\"_blank\" href=https://colab.research.google.com/notebooks/data_table.ipynb>data table notebook</a>'\n",
              "            + ' to learn more about interactive tables.';\n",
              "          element.innerHTML = '';\n",
              "          dataTable['output_type'] = 'display_data';\n",
              "          await google.colab.output.renderOutput(dataTable, element);\n",
              "          const docLink = document.createElement('div');\n",
              "          docLink.innerHTML = docLinkHtml;\n",
              "          element.appendChild(docLink);\n",
              "        }\n",
              "      </script>\n",
              "    </div>\n",
              "  </div>\n",
              "  "
            ],
            "text/plain": [
              "   Estado  Revenda\n",
              "0      SP    34677\n",
              "1      MG     7494\n",
              "2      RJ     6391\n",
              "3      PR     6154\n",
              "4      RS     5600\n",
              "5      BA     4801\n",
              "6      SC     4450\n",
              "7      CE     4220\n",
              "8      PE     3042\n",
              "9      MT     2765\n",
              "10     GO     2708\n",
              "11     ES     1658\n",
              "12     RN     1300\n",
              "13     MA     1222\n",
              "14     PA     1212\n",
              "15     DF     1211\n",
              "16     PI     1164\n",
              "17     MS     1108\n",
              "18     AM     1033\n",
              "19     RO     1033\n",
              "20     PB      971\n",
              "21     AL      970\n",
              "22     AC      749\n",
              "23     SE      689\n",
              "24     TO      544\n",
              "25     RR      224\n",
              "26     AP      196"
            ]
          },
          "metadata": {},
          "execution_count": 273
        }
      ]
    },
    {
      "cell_type": "markdown",
      "source": [
        "**Acerca dos dados analisados pode-se concluir que:**\n",
        "\n",
        "* Apenas com estes dados não é possível definir nenhuma relação entre as partes. Isso é devido ao fato de que os estados possuem muita dispairidade entre o número de revendas. Pode-se afirmar isto observando os dados, onde: Acre, Piauí e Rio Grande Do Norte estão na faixa entre 950 ~ 1300 revendas e ocupam 1º, 3º e 4º lugar, respectivamente. Já o Rio de Janeiro e o Rio Grande Do Sul estão na faixa entre 5600 ~ 6400 revendas e ocupam 2º e 5º lugar, respectivamente, tendo assim, praticamente 5 vezes o número de revendas.\n",
        "\n"
      ],
      "metadata": {
        "id": "SmOt5AeHIhGC"
      }
    },
    {
      "cell_type": "markdown",
      "source": [
        "## **6. Conclusões**\n",
        "\n",
        "djfsljdfklajdsklsj;fdljksadl\n",
        "\n",
        "**Resultados:**\n",
        "\n",
        "\n",
        "* jldshsjdflkdsj;f\n",
        "* kldjskljdlka;dskfj;s\n",
        "* dksljkldsj;ld"
      ],
      "metadata": {
        "id": "6zw2t6muBZlo"
      }
    },
    {
      "cell_type": "code",
      "source": [
        "regiao = df.groupby('Regiao')['Valor'].mean()\n",
        "\n",
        "fig, ax = plt.subplots(figsize = (15, 8))\n",
        "# gráfico de barras\n",
        "\n",
        "ax = sns.barplot(x=regiao.index, y=regiao.values, data=regiao,\n",
        "                 palette=\"viridis\")\n",
        "\n",
        "\n",
        "# altera o ticklabel do eixo x\n",
        "ax.set_xticklabels(labels = regiao.index);\n",
        "# limite do eixo y\n",
        "ax.set_ylim(0, regiao.values[0]*1.5)\n",
        "# altera os rótulos e o title\n",
        "ax.set(xlabel = 'Regiao', ylabel = 'Valor médio em reais')\n",
        "ax.set_title('Valor médio por regiao', \n",
        "             pad = 10, fontsize = 15, fontweight = 'bold')\n"
      ],
      "metadata": {
        "id": "HSwWX0AHBnk8",
        "colab": {
          "base_uri": "https://localhost:8080/",
          "height": 0
        },
        "outputId": "bd2d8eb0-3631-42a0-8fa7-9d99ed0cd9c5"
      },
      "execution_count": 268,
      "outputs": [
        {
          "output_type": "execute_result",
          "data": {
            "text/plain": [
              "Text(0.5, 1.0, 'Valor médio por regiao')"
            ]
          },
          "metadata": {},
          "execution_count": 268
        },
        {
          "output_type": "display_data",
          "data": {
            "image/png": "[encoded data removed]",
            "text/plain": [
              "<Figure size 1080x576 with 1 Axes>"
            ]
          },
          "metadata": {}
        }
      ]
    },
    {
      "cell_type": "markdown",
      "source": [
        "## **7. Referências**\n",
        "\n",
        "* https://www.gov.br/anp/pt-br\n",
        "* https://www.fecombustiveis.org.br/\n",
        "* https://pandas.pydata.org/docs/reference/index.html\n",
        "* https://matplotlib.org/stable/index.html\n",
        "* https://www.python-graph-gallery.com/"
      ],
      "metadata": {
        "id": "JkYamogq1G0O"
      }
    },
    {
      "cell_type": "code",
      "source": [
        ""
      ],
      "metadata": {
        "id": "cPheL3AQRjOO"
      },
      "execution_count": 268,
      "outputs": []
    }
  ],
  "metadata": {
    "colab": {
      "collapsed_sections": [
        "1zIF2tQsux-j",
        "_le_yRDcv5S5",
        "s4kukcY9KlAB",
        "_V6BRn3qWOm4",
        "-1mBH6AiKT3S",
        "topBrf-T5RHF",
        "nABsZXVO9Jw4",
        "VTWRAoBoMEdR",
        "kC1v-vheUl61",
        "ufFYHD72hNGR",
        "9auJILNuSQUH",
        "ssx5RBswSUvi",
        "d_ek4gR5XP6D",
        "YMu3e5LJSVc2",
        "R7bC0Xroh3iS",
        "YaGwJWw6iXdK",
        "1H4gMAT8Scyz",
        "ss8CXlxOW7PV",
        "OkVYfvg44mPs",
        "1d6XlzgsSfES",
        "5DqemWXoW-Y2",
        "iN9W2mE1d9GF",
        "_j4lQNXSShYa",
        "izdA3h5KTlCt",
        "TCn7ZSKEFRg4",
        "6zw2t6muBZlo"
      ],
      "name": "Projeto_M4_Grupo_4.ipynb",
      "provenance": [],
      "include_colab_link": true
    },
    "kernelspec": {
      "display_name": "Python 3",
      "name": "python3"
    },
    "language_info": {
      "name": "python"
    }
  },
  "nbformat": 4,
  "nbformat_minor": 0
}